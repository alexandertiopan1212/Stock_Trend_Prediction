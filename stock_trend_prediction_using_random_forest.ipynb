{
 "cells": [
  {
   "cell_type": "markdown",
   "metadata": {
    "id": "iCE0ALzkKG4_"
   },
   "source": [
    "# Stock Trend Prediction Using Random Forest (TOBA)"
   ]
  },
  {
   "cell_type": "markdown",
   "metadata": {},
   "source": [
    "### Project Overview"
   ]
  },
  {
   "cell_type": "markdown",
   "metadata": {},
   "source": [
    "For this project, I am using TOBA stock data to predict stock price trends using the random forest algorithm. The dataset includes columns such as Date, Open, High, Low, Close, Adj Close, Volume, y, predn, SES open, and others. I will preprocess the data, select relevant features like Open, High, Low, Close, Adj Close, and Volume, train the random forest model, evaluate its performance, and use it to predict future stock price trends for TOBA stock."
   ]
  },
  {
   "cell_type": "markdown",
   "metadata": {},
   "source": [
    "### Import Libraries"
   ]
  },
  {
   "cell_type": "code",
   "execution_count": 1,
   "metadata": {
    "id": "-P3jbucB8OYW"
   },
   "outputs": [],
   "source": [
    "# Utilities\n",
    "import pandas as pd\n",
    "import numpy as np\n",
    "from numpy import arange\n",
    "\n",
    "# Scikit-Learn\n",
    "from sklearn import metrics\n",
    "from sklearn.model_selection import train_test_split, RandomizedSearchCV, GridSearchCV\n",
    "from sklearn.ensemble import RandomForestClassifier\n",
    "from sklearn.metrics import roc_auc_score, roc_curve, RocCurveDisplay, confusion_matrix, precision_score, recall_score, f1_score, accuracy_score\n",
    "\n",
    "# Visualization\n",
    "import matplotlib.pyplot as plt"
   ]
  },
  {
   "cell_type": "markdown",
   "metadata": {},
   "source": [
    "### Dataset Input"
   ]
  },
  {
   "cell_type": "markdown",
   "metadata": {},
   "source": [
    "#### Import Dataset"
   ]
  },
  {
   "cell_type": "code",
   "execution_count": 2,
   "metadata": {
    "colab": {
     "base_uri": "https://localhost:8080/",
     "height": 236
    },
    "executionInfo": {
     "elapsed": 1119,
     "status": "ok",
     "timestamp": 1679179442247,
     "user": {
      "displayName": "miroalexander tiopan",
      "userId": "02347598650366603084"
     },
     "user_tz": -420
    },
    "id": "eFPNltIu8gS9",
    "outputId": "e306fdf7-7465-49de-b929-fba3f572ab01"
   },
   "outputs": [],
   "source": [
    "toba = pd.read_csv('./toba.csv', delimiter = ';')"
   ]
  },
  {
   "cell_type": "code",
   "execution_count": 3,
   "metadata": {},
   "outputs": [
    {
     "data": {
      "text/html": [
       "<div>\n",
       "<style scoped>\n",
       "    .dataframe tbody tr th:only-of-type {\n",
       "        vertical-align: middle;\n",
       "    }\n",
       "\n",
       "    .dataframe tbody tr th {\n",
       "        vertical-align: top;\n",
       "    }\n",
       "\n",
       "    .dataframe thead th {\n",
       "        text-align: right;\n",
       "    }\n",
       "</style>\n",
       "<table border=\"1\" class=\"dataframe\">\n",
       "  <thead>\n",
       "    <tr style=\"text-align: right;\">\n",
       "      <th></th>\n",
       "      <th>Date</th>\n",
       "      <th>Open</th>\n",
       "      <th>High</th>\n",
       "      <th>Low</th>\n",
       "      <th>Close</th>\n",
       "      <th>Adj Close</th>\n",
       "      <th>Volume</th>\n",
       "      <th>y</th>\n",
       "      <th>predn</th>\n",
       "      <th>SES open</th>\n",
       "      <th>...</th>\n",
       "      <th>CC</th>\n",
       "      <th>SO%k</th>\n",
       "      <th>SO%d</th>\n",
       "      <th>MI</th>\n",
       "      <th>1-EMV</th>\n",
       "      <th>15-EMV</th>\n",
       "      <th>+VI</th>\n",
       "      <th>-VI</th>\n",
       "      <th>CO</th>\n",
       "      <th>ROC</th>\n",
       "    </tr>\n",
       "  </thead>\n",
       "  <tbody>\n",
       "    <tr>\n",
       "      <th>0</th>\n",
       "      <td>02/01/2017</td>\n",
       "      <td>311.25</td>\n",
       "      <td>311.25</td>\n",
       "      <td>311.25</td>\n",
       "      <td>311.25</td>\n",
       "      <td>310.128021</td>\n",
       "      <td>0</td>\n",
       "      <td>310.128021</td>\n",
       "      <td>1.0</td>\n",
       "      <td>311.25000</td>\n",
       "      <td>...</td>\n",
       "      <td>0.0</td>\n",
       "      <td>0.0</td>\n",
       "      <td>0.0</td>\n",
       "      <td>0.0</td>\n",
       "      <td>0.000000</td>\n",
       "      <td>0.0</td>\n",
       "      <td>0.0</td>\n",
       "      <td>0.0</td>\n",
       "      <td>0.0</td>\n",
       "      <td>NaN</td>\n",
       "    </tr>\n",
       "    <tr>\n",
       "      <th>1</th>\n",
       "      <td>03/01/2017</td>\n",
       "      <td>311.25</td>\n",
       "      <td>312.50</td>\n",
       "      <td>311.25</td>\n",
       "      <td>312.50</td>\n",
       "      <td>311.373535</td>\n",
       "      <td>51200</td>\n",
       "      <td>1.245514</td>\n",
       "      <td>1.0</td>\n",
       "      <td>311.25000</td>\n",
       "      <td>...</td>\n",
       "      <td>0.0</td>\n",
       "      <td>0.0</td>\n",
       "      <td>0.0</td>\n",
       "      <td>0.0</td>\n",
       "      <td>762.939453</td>\n",
       "      <td>0.0</td>\n",
       "      <td>0.0</td>\n",
       "      <td>0.0</td>\n",
       "      <td>0.0</td>\n",
       "      <td>NaN</td>\n",
       "    </tr>\n",
       "    <tr>\n",
       "      <th>2</th>\n",
       "      <td>04/01/2017</td>\n",
       "      <td>312.50</td>\n",
       "      <td>312.50</td>\n",
       "      <td>312.50</td>\n",
       "      <td>312.50</td>\n",
       "      <td>311.373535</td>\n",
       "      <td>40400</td>\n",
       "      <td>0.000000</td>\n",
       "      <td>1.0</td>\n",
       "      <td>311.87500</td>\n",
       "      <td>...</td>\n",
       "      <td>0.0</td>\n",
       "      <td>0.0</td>\n",
       "      <td>0.0</td>\n",
       "      <td>0.0</td>\n",
       "      <td>-147.964015</td>\n",
       "      <td>0.0</td>\n",
       "      <td>0.0</td>\n",
       "      <td>0.0</td>\n",
       "      <td>0.0</td>\n",
       "      <td>NaN</td>\n",
       "    </tr>\n",
       "    <tr>\n",
       "      <th>3</th>\n",
       "      <td>05/01/2017</td>\n",
       "      <td>312.50</td>\n",
       "      <td>313.75</td>\n",
       "      <td>281.25</td>\n",
       "      <td>313.75</td>\n",
       "      <td>312.619019</td>\n",
       "      <td>445600</td>\n",
       "      <td>1.245484</td>\n",
       "      <td>1.0</td>\n",
       "      <td>312.18750</td>\n",
       "      <td>...</td>\n",
       "      <td>0.0</td>\n",
       "      <td>0.0</td>\n",
       "      <td>0.0</td>\n",
       "      <td>0.0</td>\n",
       "      <td>55168.843700</td>\n",
       "      <td>0.0</td>\n",
       "      <td>0.0</td>\n",
       "      <td>0.0</td>\n",
       "      <td>0.0</td>\n",
       "      <td>NaN</td>\n",
       "    </tr>\n",
       "    <tr>\n",
       "      <th>4</th>\n",
       "      <td>06/01/2017</td>\n",
       "      <td>313.75</td>\n",
       "      <td>321.25</td>\n",
       "      <td>312.50</td>\n",
       "      <td>318.75</td>\n",
       "      <td>317.601013</td>\n",
       "      <td>264800</td>\n",
       "      <td>4.981994</td>\n",
       "      <td>1.0</td>\n",
       "      <td>312.96875</td>\n",
       "      <td>...</td>\n",
       "      <td>0.0</td>\n",
       "      <td>0.0</td>\n",
       "      <td>0.0</td>\n",
       "      <td>0.0</td>\n",
       "      <td>-9551.802175</td>\n",
       "      <td>0.0</td>\n",
       "      <td>0.0</td>\n",
       "      <td>0.0</td>\n",
       "      <td>0.0</td>\n",
       "      <td>NaN</td>\n",
       "    </tr>\n",
       "  </tbody>\n",
       "</table>\n",
       "<p>5 rows × 41 columns</p>\n",
       "</div>"
      ],
      "text/plain": [
       "         Date    Open    High     Low   Close   Adj Close  Volume           y  \\\n",
       "0  02/01/2017  311.25  311.25  311.25  311.25  310.128021       0  310.128021   \n",
       "1  03/01/2017  311.25  312.50  311.25  312.50  311.373535   51200    1.245514   \n",
       "2  04/01/2017  312.50  312.50  312.50  312.50  311.373535   40400    0.000000   \n",
       "3  05/01/2017  312.50  313.75  281.25  313.75  312.619019  445600    1.245484   \n",
       "4  06/01/2017  313.75  321.25  312.50  318.75  317.601013  264800    4.981994   \n",
       "\n",
       "   predn   SES open  ...   CC  SO%k  SO%d   MI         1-EMV  15-EMV  +VI  \\\n",
       "0    1.0  311.25000  ...  0.0   0.0   0.0  0.0      0.000000     0.0  0.0   \n",
       "1    1.0  311.25000  ...  0.0   0.0   0.0  0.0    762.939453     0.0  0.0   \n",
       "2    1.0  311.87500  ...  0.0   0.0   0.0  0.0   -147.964015     0.0  0.0   \n",
       "3    1.0  312.18750  ...  0.0   0.0   0.0  0.0  55168.843700     0.0  0.0   \n",
       "4    1.0  312.96875  ...  0.0   0.0   0.0  0.0  -9551.802175     0.0  0.0   \n",
       "\n",
       "   -VI   CO  ROC  \n",
       "0  0.0  0.0  NaN  \n",
       "1  0.0  0.0  NaN  \n",
       "2  0.0  0.0  NaN  \n",
       "3  0.0  0.0  NaN  \n",
       "4  0.0  0.0  NaN  \n",
       "\n",
       "[5 rows x 41 columns]"
      ]
     },
     "execution_count": 3,
     "metadata": {},
     "output_type": "execute_result"
    }
   ],
   "source": [
    "toba.head()"
   ]
  },
  {
   "cell_type": "code",
   "execution_count": 4,
   "metadata": {
    "colab": {
     "base_uri": "https://localhost:8080/"
    },
    "executionInfo": {
     "elapsed": 554,
     "status": "ok",
     "timestamp": 1679179449785,
     "user": {
      "displayName": "miroalexander tiopan",
      "userId": "02347598650366603084"
     },
     "user_tz": -420
    },
    "id": "GcknaLMcNrEz",
    "outputId": "63248323-892f-4d1b-9227-02b73eaf1209"
   },
   "outputs": [
    {
     "data": {
      "text/plain": [
       "Index(['Date', 'Open', 'High', 'Low', 'Close', 'Adj Close', 'Volume', 'y',\n",
       "       'predn', 'SES open', 'SES High', 'SES Low', 'SES Close',\n",
       "       'SES Adj Close', 'SES Volume', 'MACD', 'MTM', 'RSI', 'ATR', 'ADOSC',\n",
       "       'CCI', 'MFI', 'ULTSOC', 'Donchian upper', 'Donchian Lower',\n",
       "       'Donchian Medium', 'Upper BB', 'Lower BB', 'OBV', 'SMA', 'TSI', 'CC',\n",
       "       'SO%k', 'SO%d', 'MI', '1-EMV', '15-EMV', '+VI', '-VI', 'CO', 'ROC'],\n",
       "      dtype='object')"
      ]
     },
     "execution_count": 4,
     "metadata": {},
     "output_type": "execute_result"
    }
   ],
   "source": [
    "toba.columns"
   ]
  },
  {
   "cell_type": "markdown",
   "metadata": {},
   "source": [
    "#### Generate Trend Column"
   ]
  },
  {
   "cell_type": "code",
   "execution_count": 5,
   "metadata": {
    "id": "QXD7yIwVM8Bu"
   },
   "outputs": [],
   "source": [
    "adj_close = toba['SES Adj Close']\n",
    "ypred = []\n",
    "ypred.append(0)\n",
    "\n",
    "for i in range(1, len(adj_close)):\n",
    "  if adj_close[i] >  adj_close[i-1]:\n",
    "    ypred.append(1)\n",
    "  elif adj_close[i] < adj_close[i-1]:\n",
    "      ypred.append(-1)\n",
    "  else:\n",
    "      ypred.append(1)\n",
    "\n",
    "ypred = pd.DataFrame(ypred)\n",
    "\n",
    "toba['trend'] = ypred.shift(-1)"
   ]
  },
  {
   "cell_type": "code",
   "execution_count": 6,
   "metadata": {
    "colab": {
     "base_uri": "https://localhost:8080/",
     "height": 317
    },
    "executionInfo": {
     "elapsed": 380,
     "status": "ok",
     "timestamp": 1679179471951,
     "user": {
      "displayName": "miroalexander tiopan",
      "userId": "02347598650366603084"
     },
     "user_tz": -420
    },
    "id": "rtXnGzGHKrfU",
    "outputId": "c11215a0-67fe-4a65-ee9b-152664bc7c13"
   },
   "outputs": [
    {
     "data": {
      "text/html": [
       "<div>\n",
       "<style scoped>\n",
       "    .dataframe tbody tr th:only-of-type {\n",
       "        vertical-align: middle;\n",
       "    }\n",
       "\n",
       "    .dataframe tbody tr th {\n",
       "        vertical-align: top;\n",
       "    }\n",
       "\n",
       "    .dataframe thead th {\n",
       "        text-align: right;\n",
       "    }\n",
       "</style>\n",
       "<table border=\"1\" class=\"dataframe\">\n",
       "  <thead>\n",
       "    <tr style=\"text-align: right;\">\n",
       "      <th></th>\n",
       "      <th>SES Adj Close</th>\n",
       "      <th>MACD</th>\n",
       "      <th>MTM</th>\n",
       "      <th>RSI</th>\n",
       "      <th>ATR</th>\n",
       "      <th>ADOSC</th>\n",
       "      <th>CCI</th>\n",
       "      <th>MFI</th>\n",
       "      <th>ULTSOC</th>\n",
       "      <th>Donchian upper</th>\n",
       "      <th>...</th>\n",
       "      <th>CC</th>\n",
       "      <th>SO%k</th>\n",
       "      <th>SO%d</th>\n",
       "      <th>MI</th>\n",
       "      <th>1-EMV</th>\n",
       "      <th>15-EMV</th>\n",
       "      <th>+VI</th>\n",
       "      <th>-VI</th>\n",
       "      <th>CO</th>\n",
       "      <th>trend</th>\n",
       "    </tr>\n",
       "  </thead>\n",
       "  <tbody>\n",
       "    <tr>\n",
       "      <th>41</th>\n",
       "      <td>335.304609</td>\n",
       "      <td>5.766869</td>\n",
       "      <td>18.216655</td>\n",
       "      <td>73.230136</td>\n",
       "      <td>11.038120</td>\n",
       "      <td>4130977.701</td>\n",
       "      <td>105.294794</td>\n",
       "      <td>77.155548</td>\n",
       "      <td>92.397740</td>\n",
       "      <td>336.816798</td>\n",
       "      <td>...</td>\n",
       "      <td>9.224772</td>\n",
       "      <td>95.473326</td>\n",
       "      <td>97.031809</td>\n",
       "      <td>24.036861</td>\n",
       "      <td>-783.067434</td>\n",
       "      <td>7268.271803</td>\n",
       "      <td>1.158257</td>\n",
       "      <td>0.882944</td>\n",
       "      <td>421515.69450</td>\n",
       "      <td>-1.0</td>\n",
       "    </tr>\n",
       "    <tr>\n",
       "      <th>42</th>\n",
       "      <td>332.057532</td>\n",
       "      <td>5.710976</td>\n",
       "      <td>15.335806</td>\n",
       "      <td>66.163709</td>\n",
       "      <td>9.644060</td>\n",
       "      <td>3994454.811</td>\n",
       "      <td>71.479622</td>\n",
       "      <td>75.275884</td>\n",
       "      <td>92.552956</td>\n",
       "      <td>336.816798</td>\n",
       "      <td>...</td>\n",
       "      <td>10.165722</td>\n",
       "      <td>88.832703</td>\n",
       "      <td>94.290648</td>\n",
       "      <td>23.775048</td>\n",
       "      <td>2817.389819</td>\n",
       "      <td>-4838.422722</td>\n",
       "      <td>1.272026</td>\n",
       "      <td>0.872526</td>\n",
       "      <td>293416.40920</td>\n",
       "      <td>1.0</td>\n",
       "    </tr>\n",
       "    <tr>\n",
       "      <th>43</th>\n",
       "      <td>332.302234</td>\n",
       "      <td>5.621624</td>\n",
       "      <td>18.254603</td>\n",
       "      <td>66.425304</td>\n",
       "      <td>8.072030</td>\n",
       "      <td>3967391.428</td>\n",
       "      <td>58.363964</td>\n",
       "      <td>80.390453</td>\n",
       "      <td>92.345815</td>\n",
       "      <td>336.816798</td>\n",
       "      <td>...</td>\n",
       "      <td>10.604894</td>\n",
       "      <td>87.508526</td>\n",
       "      <td>90.604852</td>\n",
       "      <td>23.448044</td>\n",
       "      <td>-1716.519843</td>\n",
       "      <td>-5401.955831</td>\n",
       "      <td>1.338005</td>\n",
       "      <td>0.856746</td>\n",
       "      <td>205726.86090</td>\n",
       "      <td>-1.0</td>\n",
       "    </tr>\n",
       "    <tr>\n",
       "      <th>44</th>\n",
       "      <td>331.179086</td>\n",
       "      <td>5.397958</td>\n",
       "      <td>18.468504</td>\n",
       "      <td>63.992327</td>\n",
       "      <td>7.244348</td>\n",
       "      <td>3912379.486</td>\n",
       "      <td>46.273782</td>\n",
       "      <td>77.833677</td>\n",
       "      <td>91.481186</td>\n",
       "      <td>336.816798</td>\n",
       "      <td>...</td>\n",
       "      <td>10.672499</td>\n",
       "      <td>84.818676</td>\n",
       "      <td>87.053302</td>\n",
       "      <td>23.104973</td>\n",
       "      <td>-3599.071780</td>\n",
       "      <td>-2425.100164</td>\n",
       "      <td>1.286088</td>\n",
       "      <td>0.828164</td>\n",
       "      <td>133647.62200</td>\n",
       "      <td>1.0</td>\n",
       "    </tr>\n",
       "    <tr>\n",
       "      <th>45</th>\n",
       "      <td>331.240254</td>\n",
       "      <td>5.166086</td>\n",
       "      <td>16.707213</td>\n",
       "      <td>64.069120</td>\n",
       "      <td>6.747174</td>\n",
       "      <td>3895436.229</td>\n",
       "      <td>34.858435</td>\n",
       "      <td>76.193924</td>\n",
       "      <td>89.361696</td>\n",
       "      <td>336.816798</td>\n",
       "      <td>...</td>\n",
       "      <td>10.522692</td>\n",
       "      <td>84.965186</td>\n",
       "      <td>85.764129</td>\n",
       "      <td>22.784628</td>\n",
       "      <td>-686.829825</td>\n",
       "      <td>-1065.570573</td>\n",
       "      <td>1.240041</td>\n",
       "      <td>0.833646</td>\n",
       "      <td>86619.84074</td>\n",
       "      <td>1.0</td>\n",
       "    </tr>\n",
       "  </tbody>\n",
       "</table>\n",
       "<p>5 rows × 27 columns</p>\n",
       "</div>"
      ],
      "text/plain": [
       "    SES Adj Close      MACD        MTM        RSI        ATR        ADOSC  \\\n",
       "41     335.304609  5.766869  18.216655  73.230136  11.038120  4130977.701   \n",
       "42     332.057532  5.710976  15.335806  66.163709   9.644060  3994454.811   \n",
       "43     332.302234  5.621624  18.254603  66.425304   8.072030  3967391.428   \n",
       "44     331.179086  5.397958  18.468504  63.992327   7.244348  3912379.486   \n",
       "45     331.240254  5.166086  16.707213  64.069120   6.747174  3895436.229   \n",
       "\n",
       "           CCI        MFI     ULTSOC  Donchian upper  ...         CC  \\\n",
       "41  105.294794  77.155548  92.397740      336.816798  ...   9.224772   \n",
       "42   71.479622  75.275884  92.552956      336.816798  ...  10.165722   \n",
       "43   58.363964  80.390453  92.345815      336.816798  ...  10.604894   \n",
       "44   46.273782  77.833677  91.481186      336.816798  ...  10.672499   \n",
       "45   34.858435  76.193924  89.361696      336.816798  ...  10.522692   \n",
       "\n",
       "         SO%k       SO%d         MI        1-EMV       15-EMV       +VI  \\\n",
       "41  95.473326  97.031809  24.036861  -783.067434  7268.271803  1.158257   \n",
       "42  88.832703  94.290648  23.775048  2817.389819 -4838.422722  1.272026   \n",
       "43  87.508526  90.604852  23.448044 -1716.519843 -5401.955831  1.338005   \n",
       "44  84.818676  87.053302  23.104973 -3599.071780 -2425.100164  1.286088   \n",
       "45  84.965186  85.764129  22.784628  -686.829825 -1065.570573  1.240041   \n",
       "\n",
       "         -VI            CO  trend  \n",
       "41  0.882944  421515.69450   -1.0  \n",
       "42  0.872526  293416.40920    1.0  \n",
       "43  0.856746  205726.86090   -1.0  \n",
       "44  0.828164  133647.62200    1.0  \n",
       "45  0.833646   86619.84074    1.0  \n",
       "\n",
       "[5 rows x 27 columns]"
      ]
     },
     "execution_count": 6,
     "metadata": {},
     "output_type": "execute_result"
    }
   ],
   "source": [
    "toba.drop(['Date', 'predn', 'y', 'Open', 'Close', 'Adj Close', 'High', 'Low', 'SES open', 'SES High', 'SES Low', 'SES Close', 'SES Volume', 'ROC', 'Volume'], axis = 1, inplace = True)\n",
    "toba.drop(range(0,15), axis = 0, inplace = True)\n",
    "toba.drop(range(15,41), axis = 0, inplace = True)\n",
    "toba.drop(1261, axis = 0, inplace = True)\n",
    "toba.head()"
   ]
  },
  {
   "cell_type": "markdown",
   "metadata": {},
   "source": [
    "The dataset includes several features that can be used for predicting stock price trends. Here's a brief explanation of each feature:\n",
    "\n",
    "* SES Adj Close: Simple Exponential Smoothing of the adjusted closing price.\n",
    "* MACD: Moving Average Convergence Divergence, a trend-following momentum indicator.\n",
    "* MTM: Momentum indicator showing the difference between the current price and the price a number of periods ago.\n",
    "* RSI: Relative Strength Index, a momentum oscillator that measures the speed and change of price movements.\n",
    "* ATR: Average True Range, a volatility indicator measuring market volatility.\n",
    "* ADOSC: Accumulation/Distribution Oscillator, a volume-based indicator.\n",
    "* CCI: Commodity Channel Index, a momentum-based oscillator used to identify cyclical trends.\n",
    "* MFI: Money Flow Index, a momentum indicator that uses price and volume to identify overbought or oversold conditions.\n",
    "* ULTSOC: Ultimate Oscillator, a momentum oscillator designed to capture momentum across three different timeframes.\n",
    "* Donchian upper, Donchian Lower, Donchian Medium: Donchian Channels, used to identify potential support and resistance levels.\n",
    "* Upper BB, Lower BB: Bollinger Bands, used to identify overbought or oversold conditions.\n",
    "* OBV: On-Balance Volume, a cumulative indicator that adds volume on up days and subtracts volume on down days.\n",
    "* SMA: Simple Moving Average, a trend-following indicator that smooths out price data.\n",
    "* TSI: True Strength Index, a momentum oscillator that measures price trend direction and strength.\n",
    "* CC: Correlation Coefficient, measures the correlation between two securities.\n",
    "* SO%k, SO%d: Stochastic Oscillator, measures the current closing price relative to the high-low range over a period of time.\n",
    "* MI: Mass Index, identifies reversals by measuring the narrowing and widening of the range between high and low prices.\n",
    "* 1-EMV, 15-EMV: Ease of Movement, measures the relationship between price and volume.\n",
    "* +VI, -VI: Positive and Negative Volume Index, measures buying and selling pressure.\n",
    "* CO: Chaikin Oscillator, combines price and volume to measure the momentum of buying and selling pressure.\n",
    "* trend: Target variable indicating the trend of the stock price (1 for an increase, -1 for a decrease)."
   ]
  },
  {
   "cell_type": "code",
   "execution_count": 7,
   "metadata": {
    "colab": {
     "base_uri": "https://localhost:8080/"
    },
    "executionInfo": {
     "elapsed": 557,
     "status": "ok",
     "timestamp": 1679179481735,
     "user": {
      "displayName": "miroalexander tiopan",
      "userId": "02347598650366603084"
     },
     "user_tz": -420
    },
    "id": "zTRKbIb9Ziup",
    "outputId": "fbc252b2-511b-4f50-df40-d13b0e59ddcf"
   },
   "outputs": [
    {
     "data": {
      "text/plain": [
       "SES Adj Close      0\n",
       "MACD               0\n",
       "MTM                0\n",
       "RSI                0\n",
       "ATR                0\n",
       "ADOSC              0\n",
       "CCI                0\n",
       "MFI                0\n",
       "ULTSOC             0\n",
       "Donchian upper     0\n",
       "Donchian Lower     0\n",
       "Donchian Medium    0\n",
       "Upper BB           0\n",
       "Lower BB           0\n",
       "OBV                0\n",
       "SMA                0\n",
       "TSI                0\n",
       "CC                 0\n",
       "SO%k               0\n",
       "SO%d               0\n",
       "MI                 0\n",
       "1-EMV              0\n",
       "15-EMV             0\n",
       "+VI                0\n",
       "-VI                0\n",
       "CO                 0\n",
       "trend              0\n",
       "dtype: int64"
      ]
     },
     "execution_count": 7,
     "metadata": {},
     "output_type": "execute_result"
    }
   ],
   "source": [
    "toba.isnull().sum()"
   ]
  },
  {
   "cell_type": "code",
   "execution_count": 8,
   "metadata": {
    "colab": {
     "base_uri": "https://localhost:8080/",
     "height": 411
    },
    "executionInfo": {
     "elapsed": 4,
     "status": "ok",
     "timestamp": 1679179483022,
     "user": {
      "displayName": "miroalexander tiopan",
      "userId": "02347598650366603084"
     },
     "user_tz": -420
    },
    "id": "QQuSkYceAIXf",
    "outputId": "961b0997-ebd9-4cd8-cab9-76628b3d5e2f"
   },
   "outputs": [
    {
     "data": {
      "text/html": [
       "<div>\n",
       "<style scoped>\n",
       "    .dataframe tbody tr th:only-of-type {\n",
       "        vertical-align: middle;\n",
       "    }\n",
       "\n",
       "    .dataframe tbody tr th {\n",
       "        vertical-align: top;\n",
       "    }\n",
       "\n",
       "    .dataframe thead th {\n",
       "        text-align: right;\n",
       "    }\n",
       "</style>\n",
       "<table border=\"1\" class=\"dataframe\">\n",
       "  <thead>\n",
       "    <tr style=\"text-align: right;\">\n",
       "      <th></th>\n",
       "      <th>SES Adj Close</th>\n",
       "      <th>MACD</th>\n",
       "      <th>MTM</th>\n",
       "      <th>RSI</th>\n",
       "      <th>ATR</th>\n",
       "      <th>ADOSC</th>\n",
       "      <th>CCI</th>\n",
       "      <th>MFI</th>\n",
       "      <th>ULTSOC</th>\n",
       "      <th>Donchian upper</th>\n",
       "      <th>...</th>\n",
       "      <th>CC</th>\n",
       "      <th>SO%k</th>\n",
       "      <th>SO%d</th>\n",
       "      <th>MI</th>\n",
       "      <th>1-EMV</th>\n",
       "      <th>15-EMV</th>\n",
       "      <th>+VI</th>\n",
       "      <th>-VI</th>\n",
       "      <th>CO</th>\n",
       "      <th>trend</th>\n",
       "    </tr>\n",
       "  </thead>\n",
       "  <tbody>\n",
       "    <tr>\n",
       "      <th>count</th>\n",
       "      <td>1220.000000</td>\n",
       "      <td>1220.000000</td>\n",
       "      <td>1220.000000</td>\n",
       "      <td>1220.000000</td>\n",
       "      <td>1220.000000</td>\n",
       "      <td>1.220000e+03</td>\n",
       "      <td>1220.000000</td>\n",
       "      <td>1220.000000</td>\n",
       "      <td>1220.000000</td>\n",
       "      <td>1220.000000</td>\n",
       "      <td>...</td>\n",
       "      <td>1220.000000</td>\n",
       "      <td>1220.000000</td>\n",
       "      <td>1220.000000</td>\n",
       "      <td>1220.000000</td>\n",
       "      <td>1.220000e+03</td>\n",
       "      <td>1220.000000</td>\n",
       "      <td>1220.000000</td>\n",
       "      <td>1220.000000</td>\n",
       "      <td>1.220000e+03</td>\n",
       "      <td>1220.000000</td>\n",
       "    </tr>\n",
       "    <tr>\n",
       "      <th>mean</th>\n",
       "      <td>462.830614</td>\n",
       "      <td>3.967090</td>\n",
       "      <td>10.699402</td>\n",
       "      <td>52.714902</td>\n",
       "      <td>15.311715</td>\n",
       "      <td>2.621437e+07</td>\n",
       "      <td>2.909854</td>\n",
       "      <td>49.734588</td>\n",
       "      <td>70.188578</td>\n",
       "      <td>478.857909</td>\n",
       "      <td>...</td>\n",
       "      <td>3.615168</td>\n",
       "      <td>60.546132</td>\n",
       "      <td>60.596929</td>\n",
       "      <td>24.819035</td>\n",
       "      <td>1.957925e+04</td>\n",
       "      <td>19578.912395</td>\n",
       "      <td>0.977362</td>\n",
       "      <td>0.956942</td>\n",
       "      <td>6.400308e+04</td>\n",
       "      <td>-0.021311</td>\n",
       "    </tr>\n",
       "    <tr>\n",
       "      <th>std</th>\n",
       "      <td>133.594760</td>\n",
       "      <td>20.844235</td>\n",
       "      <td>68.556696</td>\n",
       "      <td>18.614036</td>\n",
       "      <td>17.364281</td>\n",
       "      <td>1.296170e+07</td>\n",
       "      <td>115.361444</td>\n",
       "      <td>22.656321</td>\n",
       "      <td>19.293852</td>\n",
       "      <td>142.433194</td>\n",
       "      <td>...</td>\n",
       "      <td>19.890582</td>\n",
       "      <td>30.335666</td>\n",
       "      <td>29.336627</td>\n",
       "      <td>3.654808</td>\n",
       "      <td>1.973183e+05</td>\n",
       "      <td>38800.506043</td>\n",
       "      <td>0.180366</td>\n",
       "      <td>0.172197</td>\n",
       "      <td>1.325089e+06</td>\n",
       "      <td>1.000183</td>\n",
       "    </tr>\n",
       "    <tr>\n",
       "      <th>min</th>\n",
       "      <td>321.105084</td>\n",
       "      <td>-28.631146</td>\n",
       "      <td>-297.730030</td>\n",
       "      <td>9.501690</td>\n",
       "      <td>1.131831</td>\n",
       "      <td>-1.418251e+05</td>\n",
       "      <td>-385.157809</td>\n",
       "      <td>0.000000</td>\n",
       "      <td>12.706303</td>\n",
       "      <td>327.691594</td>\n",
       "      <td>...</td>\n",
       "      <td>-56.356867</td>\n",
       "      <td>0.000157</td>\n",
       "      <td>0.000317</td>\n",
       "      <td>12.379795</td>\n",
       "      <td>-9.034202e+05</td>\n",
       "      <td>-70989.158330</td>\n",
       "      <td>0.436855</td>\n",
       "      <td>0.241612</td>\n",
       "      <td>-9.610664e+06</td>\n",
       "      <td>-1.000000</td>\n",
       "    </tr>\n",
       "    <tr>\n",
       "      <th>25%</th>\n",
       "      <td>375.709542</td>\n",
       "      <td>-3.164416</td>\n",
       "      <td>-10.231267</td>\n",
       "      <td>38.935663</td>\n",
       "      <td>6.726821</td>\n",
       "      <td>1.455324e+07</td>\n",
       "      <td>-82.712641</td>\n",
       "      <td>34.563414</td>\n",
       "      <td>58.372514</td>\n",
       "      <td>385.025240</td>\n",
       "      <td>...</td>\n",
       "      <td>-3.804230</td>\n",
       "      <td>37.387052</td>\n",
       "      <td>38.201384</td>\n",
       "      <td>22.543736</td>\n",
       "      <td>-1.741355e+04</td>\n",
       "      <td>49.220882</td>\n",
       "      <td>0.887019</td>\n",
       "      <td>0.883096</td>\n",
       "      <td>1.507942e+04</td>\n",
       "      <td>-1.000000</td>\n",
       "    </tr>\n",
       "    <tr>\n",
       "      <th>50%</th>\n",
       "      <td>425.028818</td>\n",
       "      <td>-0.027498</td>\n",
       "      <td>0.139410</td>\n",
       "      <td>50.386688</td>\n",
       "      <td>10.689029</td>\n",
       "      <td>2.792173e+07</td>\n",
       "      <td>0.228523</td>\n",
       "      <td>50.640260</td>\n",
       "      <td>73.768264</td>\n",
       "      <td>447.183072</td>\n",
       "      <td>...</td>\n",
       "      <td>0.086431</td>\n",
       "      <td>63.130621</td>\n",
       "      <td>62.123106</td>\n",
       "      <td>24.588922</td>\n",
       "      <td>-1.780342e+03</td>\n",
       "      <td>5043.154166</td>\n",
       "      <td>0.968154</td>\n",
       "      <td>0.966741</td>\n",
       "      <td>8.398360e+04</td>\n",
       "      <td>-1.000000</td>\n",
       "    </tr>\n",
       "    <tr>\n",
       "      <th>75%</th>\n",
       "      <td>498.862679</td>\n",
       "      <td>6.576827</td>\n",
       "      <td>14.971762</td>\n",
       "      <td>66.914392</td>\n",
       "      <td>16.521351</td>\n",
       "      <td>3.302480e+07</td>\n",
       "      <td>77.644517</td>\n",
       "      <td>66.410924</td>\n",
       "      <td>85.449759</td>\n",
       "      <td>503.623705</td>\n",
       "      <td>...</td>\n",
       "      <td>5.239175</td>\n",
       "      <td>89.127506</td>\n",
       "      <td>87.597663</td>\n",
       "      <td>27.330815</td>\n",
       "      <td>1.025120e+04</td>\n",
       "      <td>20772.906857</td>\n",
       "      <td>1.074843</td>\n",
       "      <td>1.047735</td>\n",
       "      <td>2.262421e+05</td>\n",
       "      <td>1.000000</td>\n",
       "    </tr>\n",
       "    <tr>\n",
       "      <th>max</th>\n",
       "      <td>1273.883245</td>\n",
       "      <td>146.130941</td>\n",
       "      <td>510.449114</td>\n",
       "      <td>95.386450</td>\n",
       "      <td>130.260323</td>\n",
       "      <td>7.707398e+07</td>\n",
       "      <td>455.241223</td>\n",
       "      <td>99.425270</td>\n",
       "      <td>99.435202</td>\n",
       "      <td>1273.883245</td>\n",
       "      <td>...</td>\n",
       "      <td>163.456785</td>\n",
       "      <td>100.000000</td>\n",
       "      <td>100.000000</td>\n",
       "      <td>36.799739</td>\n",
       "      <td>2.604457e+06</td>\n",
       "      <td>214947.026300</td>\n",
       "      <td>1.803408</td>\n",
       "      <td>1.673704</td>\n",
       "      <td>1.769008e+07</td>\n",
       "      <td>1.000000</td>\n",
       "    </tr>\n",
       "  </tbody>\n",
       "</table>\n",
       "<p>8 rows × 27 columns</p>\n",
       "</div>"
      ],
      "text/plain": [
       "       SES Adj Close         MACD          MTM          RSI          ATR  \\\n",
       "count    1220.000000  1220.000000  1220.000000  1220.000000  1220.000000   \n",
       "mean      462.830614     3.967090    10.699402    52.714902    15.311715   \n",
       "std       133.594760    20.844235    68.556696    18.614036    17.364281   \n",
       "min       321.105084   -28.631146  -297.730030     9.501690     1.131831   \n",
       "25%       375.709542    -3.164416   -10.231267    38.935663     6.726821   \n",
       "50%       425.028818    -0.027498     0.139410    50.386688    10.689029   \n",
       "75%       498.862679     6.576827    14.971762    66.914392    16.521351   \n",
       "max      1273.883245   146.130941   510.449114    95.386450   130.260323   \n",
       "\n",
       "              ADOSC          CCI          MFI       ULTSOC  Donchian upper  \\\n",
       "count  1.220000e+03  1220.000000  1220.000000  1220.000000     1220.000000   \n",
       "mean   2.621437e+07     2.909854    49.734588    70.188578      478.857909   \n",
       "std    1.296170e+07   115.361444    22.656321    19.293852      142.433194   \n",
       "min   -1.418251e+05  -385.157809     0.000000    12.706303      327.691594   \n",
       "25%    1.455324e+07   -82.712641    34.563414    58.372514      385.025240   \n",
       "50%    2.792173e+07     0.228523    50.640260    73.768264      447.183072   \n",
       "75%    3.302480e+07    77.644517    66.410924    85.449759      503.623705   \n",
       "max    7.707398e+07   455.241223    99.425270    99.435202     1273.883245   \n",
       "\n",
       "       ...           CC         SO%k         SO%d           MI         1-EMV  \\\n",
       "count  ...  1220.000000  1220.000000  1220.000000  1220.000000  1.220000e+03   \n",
       "mean   ...     3.615168    60.546132    60.596929    24.819035  1.957925e+04   \n",
       "std    ...    19.890582    30.335666    29.336627     3.654808  1.973183e+05   \n",
       "min    ...   -56.356867     0.000157     0.000317    12.379795 -9.034202e+05   \n",
       "25%    ...    -3.804230    37.387052    38.201384    22.543736 -1.741355e+04   \n",
       "50%    ...     0.086431    63.130621    62.123106    24.588922 -1.780342e+03   \n",
       "75%    ...     5.239175    89.127506    87.597663    27.330815  1.025120e+04   \n",
       "max    ...   163.456785   100.000000   100.000000    36.799739  2.604457e+06   \n",
       "\n",
       "              15-EMV          +VI          -VI            CO        trend  \n",
       "count    1220.000000  1220.000000  1220.000000  1.220000e+03  1220.000000  \n",
       "mean    19578.912395     0.977362     0.956942  6.400308e+04    -0.021311  \n",
       "std     38800.506043     0.180366     0.172197  1.325089e+06     1.000183  \n",
       "min    -70989.158330     0.436855     0.241612 -9.610664e+06    -1.000000  \n",
       "25%        49.220882     0.887019     0.883096  1.507942e+04    -1.000000  \n",
       "50%      5043.154166     0.968154     0.966741  8.398360e+04    -1.000000  \n",
       "75%     20772.906857     1.074843     1.047735  2.262421e+05     1.000000  \n",
       "max    214947.026300     1.803408     1.673704  1.769008e+07     1.000000  \n",
       "\n",
       "[8 rows x 27 columns]"
      ]
     },
     "execution_count": 8,
     "metadata": {},
     "output_type": "execute_result"
    }
   ],
   "source": [
    "toba.describe()"
   ]
  },
  {
   "cell_type": "markdown",
   "metadata": {
    "id": "N-vDTkOI1ThH"
   },
   "source": [
    "### Primary Random Forest"
   ]
  },
  {
   "cell_type": "markdown",
   "metadata": {},
   "source": [
    "#### Data Split"
   ]
  },
  {
   "cell_type": "code",
   "execution_count": 9,
   "metadata": {
    "id": "88tBOvNqACq3"
   },
   "outputs": [],
   "source": [
    "x = toba.drop(['trend'], axis = 1)\n",
    "y = toba['trend']"
   ]
  },
  {
   "cell_type": "code",
   "execution_count": 10,
   "metadata": {},
   "outputs": [],
   "source": [
    "xtrain, xtest, ytrain, ytest = train_test_split(x, y, test_size=0.3, random_state = 100)"
   ]
  },
  {
   "cell_type": "markdown",
   "metadata": {
    "id": "KxYMJuJBBicX"
   },
   "source": [
    "#### Model Building"
   ]
  },
  {
   "cell_type": "code",
   "execution_count": 11,
   "metadata": {
    "id": "JcVmJyA8DrvA"
   },
   "outputs": [],
   "source": [
    "rfc = RandomForestClassifier(n_estimators = 350, max_depth = 3, \n",
    "                                  min_samples_split = 2, min_samples_leaf = 14, \n",
    "                                  max_features = 0.5, random_state = 70)"
   ]
  },
  {
   "cell_type": "code",
   "execution_count": 12,
   "metadata": {},
   "outputs": [
    {
     "data": {
      "text/html": [
       "<style>#sk-container-id-1 {color: black;background-color: white;}#sk-container-id-1 pre{padding: 0;}#sk-container-id-1 div.sk-toggleable {background-color: white;}#sk-container-id-1 label.sk-toggleable__label {cursor: pointer;display: block;width: 100%;margin-bottom: 0;padding: 0.3em;box-sizing: border-box;text-align: center;}#sk-container-id-1 label.sk-toggleable__label-arrow:before {content: \"▸\";float: left;margin-right: 0.25em;color: #696969;}#sk-container-id-1 label.sk-toggleable__label-arrow:hover:before {color: black;}#sk-container-id-1 div.sk-estimator:hover label.sk-toggleable__label-arrow:before {color: black;}#sk-container-id-1 div.sk-toggleable__content {max-height: 0;max-width: 0;overflow: hidden;text-align: left;background-color: #f0f8ff;}#sk-container-id-1 div.sk-toggleable__content pre {margin: 0.2em;color: black;border-radius: 0.25em;background-color: #f0f8ff;}#sk-container-id-1 input.sk-toggleable__control:checked~div.sk-toggleable__content {max-height: 200px;max-width: 100%;overflow: auto;}#sk-container-id-1 input.sk-toggleable__control:checked~label.sk-toggleable__label-arrow:before {content: \"▾\";}#sk-container-id-1 div.sk-estimator input.sk-toggleable__control:checked~label.sk-toggleable__label {background-color: #d4ebff;}#sk-container-id-1 div.sk-label input.sk-toggleable__control:checked~label.sk-toggleable__label {background-color: #d4ebff;}#sk-container-id-1 input.sk-hidden--visually {border: 0;clip: rect(1px 1px 1px 1px);clip: rect(1px, 1px, 1px, 1px);height: 1px;margin: -1px;overflow: hidden;padding: 0;position: absolute;width: 1px;}#sk-container-id-1 div.sk-estimator {font-family: monospace;background-color: #f0f8ff;border: 1px dotted black;border-radius: 0.25em;box-sizing: border-box;margin-bottom: 0.5em;}#sk-container-id-1 div.sk-estimator:hover {background-color: #d4ebff;}#sk-container-id-1 div.sk-parallel-item::after {content: \"\";width: 100%;border-bottom: 1px solid gray;flex-grow: 1;}#sk-container-id-1 div.sk-label:hover label.sk-toggleable__label {background-color: #d4ebff;}#sk-container-id-1 div.sk-serial::before {content: \"\";position: absolute;border-left: 1px solid gray;box-sizing: border-box;top: 0;bottom: 0;left: 50%;z-index: 0;}#sk-container-id-1 div.sk-serial {display: flex;flex-direction: column;align-items: center;background-color: white;padding-right: 0.2em;padding-left: 0.2em;position: relative;}#sk-container-id-1 div.sk-item {position: relative;z-index: 1;}#sk-container-id-1 div.sk-parallel {display: flex;align-items: stretch;justify-content: center;background-color: white;position: relative;}#sk-container-id-1 div.sk-item::before, #sk-container-id-1 div.sk-parallel-item::before {content: \"\";position: absolute;border-left: 1px solid gray;box-sizing: border-box;top: 0;bottom: 0;left: 50%;z-index: -1;}#sk-container-id-1 div.sk-parallel-item {display: flex;flex-direction: column;z-index: 1;position: relative;background-color: white;}#sk-container-id-1 div.sk-parallel-item:first-child::after {align-self: flex-end;width: 50%;}#sk-container-id-1 div.sk-parallel-item:last-child::after {align-self: flex-start;width: 50%;}#sk-container-id-1 div.sk-parallel-item:only-child::after {width: 0;}#sk-container-id-1 div.sk-dashed-wrapped {border: 1px dashed gray;margin: 0 0.4em 0.5em 0.4em;box-sizing: border-box;padding-bottom: 0.4em;background-color: white;}#sk-container-id-1 div.sk-label label {font-family: monospace;font-weight: bold;display: inline-block;line-height: 1.2em;}#sk-container-id-1 div.sk-label-container {text-align: center;}#sk-container-id-1 div.sk-container {/* jupyter's `normalize.less` sets `[hidden] { display: none; }` but bootstrap.min.css set `[hidden] { display: none !important; }` so we also need the `!important` here to be able to override the default hidden behavior on the sphinx rendered scikit-learn.org. See: https://github.com/scikit-learn/scikit-learn/issues/21755 */display: inline-block !important;position: relative;}#sk-container-id-1 div.sk-text-repr-fallback {display: none;}</style><div id=\"sk-container-id-1\" class=\"sk-top-container\"><div class=\"sk-text-repr-fallback\"><pre>RandomForestClassifier(max_depth=3, max_features=0.5, min_samples_leaf=14,\n",
       "                       n_estimators=350, random_state=70)</pre><b>In a Jupyter environment, please rerun this cell to show the HTML representation or trust the notebook. <br />On GitHub, the HTML representation is unable to render, please try loading this page with nbviewer.org.</b></div><div class=\"sk-container\" hidden><div class=\"sk-item\"><div class=\"sk-estimator sk-toggleable\"><input class=\"sk-toggleable__control sk-hidden--visually\" id=\"sk-estimator-id-1\" type=\"checkbox\" checked><label for=\"sk-estimator-id-1\" class=\"sk-toggleable__label sk-toggleable__label-arrow\">RandomForestClassifier</label><div class=\"sk-toggleable__content\"><pre>RandomForestClassifier(max_depth=3, max_features=0.5, min_samples_leaf=14,\n",
       "                       n_estimators=350, random_state=70)</pre></div></div></div></div></div>"
      ],
      "text/plain": [
       "RandomForestClassifier(max_depth=3, max_features=0.5, min_samples_leaf=14,\n",
       "                       n_estimators=350, random_state=70)"
      ]
     },
     "execution_count": 12,
     "metadata": {},
     "output_type": "execute_result"
    }
   ],
   "source": [
    "rfc.fit(xtrain, ytrain)"
   ]
  },
  {
   "cell_type": "code",
   "execution_count": 13,
   "metadata": {},
   "outputs": [],
   "source": [
    "y_pred = rfc.predict(xtest)"
   ]
  },
  {
   "cell_type": "markdown",
   "metadata": {
    "id": "eeKnU92bBmO_"
   },
   "source": [
    "#### Model Evaluation"
   ]
  },
  {
   "cell_type": "code",
   "execution_count": 14,
   "metadata": {
    "colab": {
     "base_uri": "https://localhost:8080/"
    },
    "executionInfo": {
     "elapsed": 574,
     "status": "ok",
     "timestamp": 1679179581912,
     "user": {
      "displayName": "miroalexander tiopan",
      "userId": "02347598650366603084"
     },
     "user_tz": -420
    },
    "id": "V-WOgAGgIr_P",
    "outputId": "16348bcf-58d3-4c8e-dad2-65dfbc7763be"
   },
   "outputs": [
    {
     "data": {
      "text/plain": [
       "array([[154,  39],\n",
       "       [ 88,  85]])"
      ]
     },
     "execution_count": 14,
     "metadata": {},
     "output_type": "execute_result"
    }
   ],
   "source": [
    "confusion_matrix(ytest, y_pred)"
   ]
  },
  {
   "cell_type": "code",
   "execution_count": 15,
   "metadata": {
    "colab": {
     "base_uri": "https://localhost:8080/"
    },
    "executionInfo": {
     "elapsed": 3,
     "status": "ok",
     "timestamp": 1679179583434,
     "user": {
      "displayName": "miroalexander tiopan",
      "userId": "02347598650366603084"
     },
     "user_tz": -420
    },
    "id": "1OfFhY_eQRqZ",
    "outputId": "4e4a42d0-00ea-4ee0-8ab3-d63573adc7fa"
   },
   "outputs": [
    {
     "name": "stdout",
     "output_type": "stream",
     "text": [
      "  Evaluation    Result\n",
      "0   Accuracy  0.653005\n",
      "1  Precision  0.685484\n",
      "2     Recall  0.491329\n",
      "3   F1 Score  0.572391\n"
     ]
    }
   ],
   "source": [
    "accuracy = accuracy_score(ytest, y_pred)\n",
    "precision = precision_score(ytest, y_pred)\n",
    "recall = recall_score(ytest, y_pred)\n",
    "f1 = f1_score(ytest, y_pred)\n",
    "\n",
    "result = {'Evaluation': ['Accuracy', 'Precision', 'Recall', 'F1 Score'],\n",
    "'Result': [accuracy, precision, recall, f1]}\n",
    "\n",
    "result_df = pd.DataFrame(result)\n",
    "print(result_df)"
   ]
  },
  {
   "cell_type": "code",
   "execution_count": 16,
   "metadata": {
    "colab": {
     "base_uri": "https://localhost:8080/",
     "height": 404
    },
    "executionInfo": {
     "elapsed": 1151,
     "status": "ok",
     "timestamp": 1679179590112,
     "user": {
      "displayName": "miroalexander tiopan",
      "userId": "02347598650366603084"
     },
     "user_tz": -420
    },
    "id": "ZWsoe-yagqww",
    "outputId": "f721ce43-0f1c-4441-ac2a-d6280c3e9619"
   },
   "outputs": [
    {
     "data": {
      "image/png": "[encoded data removed]",
      "text/plain": [
       "<Figure size 800x600 with 1 Axes>"
      ]
     },
     "metadata": {},
     "output_type": "display_data"
    }
   ],
   "source": [
    "auc = roc_auc_score(ytest, y_pred)\n",
    "\n",
    "fpr, tpr, threshold = roc_curve(ytest, y_pred)\n",
    "\n",
    "plt.figure(figsize = (8, 6))\n",
    "plt.title(\"AUC & ROC Curve\")\n",
    "plt.plot(fpr, tpr, 'g')\n",
    "plt.fill_between(fpr, tpr, facecolor = 'yellow', alpha = 0.7)\n",
    "plt.text(0.95, 0.05, 'AUC = %0.4f' %auc, ha = 'right', fontsize = 12, color = 'black')\n",
    "plt.xlabel('False Positive Rate')\n",
    "plt.ylabel('True Positive Rate')\n",
    "plt.show()"
   ]
  },
  {
   "cell_type": "markdown",
   "metadata": {},
   "source": [
    "The AUC value of 0.6446 indicates that the model's ability to distinguish between positive and negative classes is moderate, where a higher AUC value indicates better performance."
   ]
  },
  {
   "cell_type": "markdown",
   "metadata": {
    "id": "yVdA5OZ8BwMt"
   },
   "source": [
    "### Random Forest with Feature Importance and Random Search"
   ]
  },
  {
   "cell_type": "markdown",
   "metadata": {
    "id": "jNNInWX92S89"
   },
   "source": [
    "#### Feature Importance"
   ]
  },
  {
   "cell_type": "code",
   "execution_count": 17,
   "metadata": {
    "colab": {
     "base_uri": "https://localhost:8080/",
     "height": 767
    },
    "executionInfo": {
     "elapsed": 1155,
     "status": "ok",
     "timestamp": 1679179597455,
     "user": {
      "displayName": "miroalexander tiopan",
      "userId": "02347598650366603084"
     },
     "user_tz": -420
    },
    "id": "3m0ifaNDjf5f",
    "outputId": "82f580a3-2de4-4572-8d39-4611a027c9cf"
   },
   "outputs": [
    {
     "name": "stdout",
     "output_type": "stream",
     "text": [
      "Feature ranking:\n",
      "1. feature 14 (0.006661)\n",
      "2. feature 1 (0.007728)\n",
      "3. feature 25 (0.008297)\n",
      "4. feature 7 (0.009069)\n",
      "5. feature 0 (0.010447)\n",
      "6. feature 9 (0.012363)\n",
      "7. feature 15 (0.012433)\n",
      "8. feature 16 (0.013090)\n",
      "9. feature 8 (0.013918)\n",
      "10. feature 12 (0.014752)\n",
      "11. feature 3 (0.015641)\n",
      "12. feature 4 (0.015650)\n",
      "13. feature 2 (0.015796)\n",
      "14. feature 21 (0.016135)\n",
      "15. feature 23 (0.016431)\n",
      "16. feature 20 (0.017627)\n",
      "17. feature 17 (0.019835)\n",
      "18. feature 13 (0.023144)\n",
      "19. feature 10 (0.025962)\n",
      "20. feature 24 (0.031872)\n",
      "21. feature 22 (0.034859)\n",
      "22. feature 11 (0.044161)\n",
      "23. feature 6 (0.064255)\n",
      "24. feature 19 (0.081644)\n",
      "25. feature 5 (0.181910)\n",
      "26. feature 18 (0.286321)\n"
     ]
    },
    {
     "data": {
      "image/png": "[encoded data removed]",
      "text/plain": [
       "<Figure size 640x480 with 1 Axes>"
      ]
     },
     "metadata": {},
     "output_type": "display_data"
    }
   ],
   "source": [
    "importances = rfc.feature_importances_\n",
    "indices = np.argsort(importances)[::1]\n",
    "print(\"Feature ranking:\")\n",
    "for f in range(xtrain.shape[1]):\n",
    "  print(\"%d. feature %d (%f)\" % (f+1, indices[f], importances[indices[f]]))\n",
    "\n",
    "plt.figure()\n",
    "plt.title(\"Feature Importance\")\n",
    "plt.bar(range(xtrain.shape[1]), importances[indices])\n",
    "plt.xticks(range(xtrain.shape[1]), indices)\n",
    "plt.show()"
   ]
  },
  {
   "cell_type": "markdown",
   "metadata": {},
   "source": [
    "Each feature (or predictor variable) is assigned an importance score based on its contribution to the model's performance. In this case, the features are numbered from 0 to 25, and each feature has a corresponding importance score.\n",
    "\n",
    "The importance scores are typically normalized so that they sum up to 1. The higher the score, the more important the feature is considered to be in predicting the target variable. Features with higher scores are more influential in the model's decision-making process, while features with lower scores are less influential.\n",
    "\n",
    "For example, feature 18 has the highest importance score of 0.286321, indicating that it is the most important feature in the model. On the other hand, feature 14 has the lowest importance score of 0.006661, indicating that it is the least important feature in the model.\n",
    "\n",
    "Overall, this ranking provides insights into which features are most relevant for predicting the target variable, which can be useful for feature selection and model interpretation."
   ]
  },
  {
   "cell_type": "markdown",
   "metadata": {
    "id": "G052htmKB0lh"
   },
   "source": [
    "#### Model Building with Feature Importance"
   ]
  },
  {
   "cell_type": "code",
   "execution_count": 18,
   "metadata": {
    "id": "aLP74A2VvDBT"
   },
   "outputs": [],
   "source": [
    "important_features = [18, 5, 19, 6, 11, 22, 24]\n",
    "xtrain_if = xtrain.iloc[:, important_features]\n",
    "xtest_if = xtest.iloc[:, important_features]"
   ]
  },
  {
   "cell_type": "code",
   "execution_count": 19,
   "metadata": {
    "colab": {
     "base_uri": "https://localhost:8080/"
    },
    "executionInfo": {
     "elapsed": 55739,
     "status": "ok",
     "timestamp": 1679179895824,
     "user": {
      "displayName": "miroalexander tiopan",
      "userId": "02347598650366603084"
     },
     "user_tz": -420
    },
    "id": "uStHXQXJ11Ii",
    "outputId": "30233239-91b7-49ab-9815-840cc86cf584"
   },
   "outputs": [
    {
     "name": "stdout",
     "output_type": "stream",
     "text": [
      "Fitting 3 folds for each of 20 candidates, totalling 60 fits\n",
      "[CV 1/3; 1/20] START max_depth=98, max_features=0.25, min_samples_leaf=190, min_samples_split=78, n_estimators=202\n",
      "[CV 1/3; 1/20] END max_depth=98, max_features=0.25, min_samples_leaf=190, min_samples_split=78, n_estimators=202;, score=0.505 total time=   0.3s\n",
      "[CV 2/3; 1/20] START max_depth=98, max_features=0.25, min_samples_leaf=190, min_samples_split=78, n_estimators=202\n",
      "[CV 2/3; 1/20] END max_depth=98, max_features=0.25, min_samples_leaf=190, min_samples_split=78, n_estimators=202;, score=0.502 total time=   0.3s\n",
      "[CV 3/3; 1/20] START max_depth=98, max_features=0.25, min_samples_leaf=190, min_samples_split=78, n_estimators=202\n",
      "[CV 3/3; 1/20] END max_depth=98, max_features=0.25, min_samples_leaf=190, min_samples_split=78, n_estimators=202;, score=0.504 total time=   0.3s\n",
      "[CV 1/3; 2/20] START max_depth=158, max_features=0.5, min_samples_leaf=102, min_samples_split=2, n_estimators=602\n",
      "[CV 1/3; 2/20] END max_depth=158, max_features=0.5, min_samples_leaf=102, min_samples_split=2, n_estimators=602;, score=0.614 total time=   1.0s\n",
      "[CV 2/3; 2/20] START max_depth=158, max_features=0.5, min_samples_leaf=102, min_samples_split=2, n_estimators=602\n",
      "[CV 2/3; 2/20] END max_depth=158, max_features=0.5, min_samples_leaf=102, min_samples_split=2, n_estimators=602;, score=0.582 total time=   1.0s\n",
      "[CV 3/3; 2/20] START max_depth=158, max_features=0.5, min_samples_leaf=102, min_samples_split=2, n_estimators=602\n",
      "[CV 3/3; 2/20] END max_depth=158, max_features=0.5, min_samples_leaf=102, min_samples_split=2, n_estimators=602;, score=0.602 total time=   1.0s\n",
      "[CV 1/3; 3/20] START max_depth=50, max_features=0.25, min_samples_leaf=230, min_samples_split=2, n_estimators=2\n",
      "[CV 1/3; 3/20] END max_depth=50, max_features=0.25, min_samples_leaf=230, min_samples_split=2, n_estimators=2;, score=0.505 total time=   0.0s\n",
      "[CV 2/3; 3/20] START max_depth=50, max_features=0.25, min_samples_leaf=230, min_samples_split=2, n_estimators=2\n",
      "[CV 2/3; 3/20] END max_depth=50, max_features=0.25, min_samples_leaf=230, min_samples_split=2, n_estimators=2;, score=0.502 total time=   0.0s\n",
      "[CV 3/3; 3/20] START max_depth=50, max_features=0.25, min_samples_leaf=230, min_samples_split=2, n_estimators=2\n",
      "[CV 3/3; 3/20] END max_depth=50, max_features=0.25, min_samples_leaf=230, min_samples_split=2, n_estimators=2;, score=0.504 total time=   0.0s\n",
      "[CV 1/3; 4/20] START max_depth=274, max_features=1, min_samples_leaf=70, min_samples_split=18, n_estimators=502\n",
      "[CV 1/3; 4/20] END max_depth=274, max_features=1, min_samples_leaf=70, min_samples_split=18, n_estimators=502;, score=0.642 total time=   0.8s\n",
      "[CV 2/3; 4/20] START max_depth=274, max_features=1, min_samples_leaf=70, min_samples_split=18, n_estimators=502\n",
      "[CV 2/3; 4/20] END max_depth=274, max_features=1, min_samples_leaf=70, min_samples_split=18, n_estimators=502;, score=0.579 total time=   0.8s\n",
      "[CV 3/3; 4/20] START max_depth=274, max_features=1, min_samples_leaf=70, min_samples_split=18, n_estimators=502\n",
      "[CV 3/3; 4/20] END max_depth=274, max_features=1, min_samples_leaf=70, min_samples_split=18, n_estimators=502;, score=0.616 total time=   0.8s\n",
      "[CV 1/3; 5/20] START max_depth=130, max_features=0.75, min_samples_leaf=282, min_samples_split=30, n_estimators=102\n",
      "[CV 1/3; 5/20] END max_depth=130, max_features=0.75, min_samples_leaf=282, min_samples_split=30, n_estimators=102;, score=0.505 total time=   0.1s\n",
      "[CV 2/3; 5/20] START max_depth=130, max_features=0.75, min_samples_leaf=282, min_samples_split=30, n_estimators=102\n",
      "[CV 2/3; 5/20] END max_depth=130, max_features=0.75, min_samples_leaf=282, min_samples_split=30, n_estimators=102;, score=0.502 total time=   0.3s\n",
      "[CV 3/3; 5/20] START max_depth=130, max_features=0.75, min_samples_leaf=282, min_samples_split=30, n_estimators=102\n",
      "[CV 3/3; 5/20] END max_depth=130, max_features=0.75, min_samples_leaf=282, min_samples_split=30, n_estimators=102;, score=0.504 total time=   0.2s\n",
      "[CV 1/3; 6/20] START max_depth=298, max_features=log2, min_samples_leaf=170, min_samples_split=42, n_estimators=902\n",
      "[CV 1/3; 6/20] END max_depth=298, max_features=log2, min_samples_leaf=170, min_samples_split=42, n_estimators=902;, score=0.621 total time=   1.7s\n",
      "[CV 2/3; 6/20] START max_depth=298, max_features=log2, min_samples_leaf=170, min_samples_split=42, n_estimators=902\n",
      "[CV 2/3; 6/20] END max_depth=298, max_features=log2, min_samples_leaf=170, min_samples_split=42, n_estimators=902;, score=0.554 total time=   1.7s\n",
      "[CV 3/3; 6/20] START max_depth=298, max_features=log2, min_samples_leaf=170, min_samples_split=42, n_estimators=902\n",
      "[CV 3/3; 6/20] END max_depth=298, max_features=log2, min_samples_leaf=170, min_samples_split=42, n_estimators=902;, score=0.574 total time=   1.4s\n",
      "[CV 1/3; 7/20] START max_depth=6, max_features=sqrt, min_samples_leaf=294, min_samples_split=54, n_estimators=102\n",
      "[CV 1/3; 7/20] END max_depth=6, max_features=sqrt, min_samples_leaf=294, min_samples_split=54, n_estimators=102;, score=0.505 total time=   0.2s\n",
      "[CV 2/3; 7/20] START max_depth=6, max_features=sqrt, min_samples_leaf=294, min_samples_split=54, n_estimators=102\n",
      "[CV 2/3; 7/20] END max_depth=6, max_features=sqrt, min_samples_leaf=294, min_samples_split=54, n_estimators=102;, score=0.502 total time=   0.2s\n",
      "[CV 3/3; 7/20] START max_depth=6, max_features=sqrt, min_samples_leaf=294, min_samples_split=54, n_estimators=102\n",
      "[CV 3/3; 7/20] END max_depth=6, max_features=sqrt, min_samples_leaf=294, min_samples_split=54, n_estimators=102;, score=0.504 total time=   0.2s\n",
      "[CV 1/3; 8/20] START max_depth=286, max_features=0.25, min_samples_leaf=290, min_samples_split=30, n_estimators=702\n",
      "[CV 1/3; 8/20] END max_depth=286, max_features=0.25, min_samples_leaf=290, min_samples_split=30, n_estimators=702;, score=0.505 total time=   1.0s\n",
      "[CV 2/3; 8/20] START max_depth=286, max_features=0.25, min_samples_leaf=290, min_samples_split=30, n_estimators=702\n",
      "[CV 2/3; 8/20] END max_depth=286, max_features=0.25, min_samples_leaf=290, min_samples_split=30, n_estimators=702;, score=0.502 total time=   1.1s\n",
      "[CV 3/3; 8/20] START max_depth=286, max_features=0.25, min_samples_leaf=290, min_samples_split=30, n_estimators=702\n",
      "[CV 3/3; 8/20] END max_depth=286, max_features=0.25, min_samples_leaf=290, min_samples_split=30, n_estimators=702;, score=0.504 total time=   1.2s\n",
      "[CV 1/3; 9/20] START max_depth=38, max_features=0.75, min_samples_leaf=26, min_samples_split=46, n_estimators=602\n",
      "[CV 1/3; 9/20] END max_depth=38, max_features=0.75, min_samples_leaf=26, min_samples_split=46, n_estimators=602;, score=0.702 total time=   1.5s\n",
      "[CV 2/3; 9/20] START max_depth=38, max_features=0.75, min_samples_leaf=26, min_samples_split=46, n_estimators=602\n",
      "[CV 2/3; 9/20] END max_depth=38, max_features=0.75, min_samples_leaf=26, min_samples_split=46, n_estimators=602;, score=0.618 total time=   1.3s\n",
      "[CV 3/3; 9/20] START max_depth=38, max_features=0.75, min_samples_leaf=26, min_samples_split=46, n_estimators=602\n",
      "[CV 3/3; 9/20] END max_depth=38, max_features=0.75, min_samples_leaf=26, min_samples_split=46, n_estimators=602;, score=0.665 total time=   1.4s\n",
      "[CV 1/3; 10/20] START max_depth=274, max_features=0.5, min_samples_leaf=150, min_samples_split=22, n_estimators=202\n",
      "[CV 1/3; 10/20] END max_depth=274, max_features=0.5, min_samples_leaf=150, min_samples_split=22, n_estimators=202;, score=0.607 total time=   0.4s\n",
      "[CV 2/3; 10/20] START max_depth=274, max_features=0.5, min_samples_leaf=150, min_samples_split=22, n_estimators=202\n",
      "[CV 2/3; 10/20] END max_depth=274, max_features=0.5, min_samples_leaf=150, min_samples_split=22, n_estimators=202;, score=0.558 total time=   0.3s\n",
      "[CV 3/3; 10/20] START max_depth=274, max_features=0.5, min_samples_leaf=150, min_samples_split=22, n_estimators=202\n",
      "[CV 3/3; 10/20] END max_depth=274, max_features=0.5, min_samples_leaf=150, min_samples_split=22, n_estimators=202;, score=0.599 total time=   0.4s\n",
      "[CV 1/3; 11/20] START max_depth=262, max_features=0.5, min_samples_leaf=298, min_samples_split=14, n_estimators=102\n",
      "[CV 1/3; 11/20] END max_depth=262, max_features=0.5, min_samples_leaf=298, min_samples_split=14, n_estimators=102;, score=0.505 total time=   0.2s\n",
      "[CV 2/3; 11/20] START max_depth=262, max_features=0.5, min_samples_leaf=298, min_samples_split=14, n_estimators=102\n",
      "[CV 2/3; 11/20] END max_depth=262, max_features=0.5, min_samples_leaf=298, min_samples_split=14, n_estimators=102;, score=0.502 total time=   0.2s\n",
      "[CV 3/3; 11/20] START max_depth=262, max_features=0.5, min_samples_leaf=298, min_samples_split=14, n_estimators=102\n",
      "[CV 3/3; 11/20] END max_depth=262, max_features=0.5, min_samples_leaf=298, min_samples_split=14, n_estimators=102;, score=0.504 total time=   0.2s\n",
      "[CV 1/3; 12/20] START max_depth=162, max_features=log2, min_samples_leaf=218, min_samples_split=66, n_estimators=202\n",
      "[CV 1/3; 12/20] END max_depth=162, max_features=log2, min_samples_leaf=218, min_samples_split=66, n_estimators=202;, score=0.505 total time=   0.3s\n",
      "[CV 2/3; 12/20] START max_depth=162, max_features=log2, min_samples_leaf=218, min_samples_split=66, n_estimators=202\n",
      "[CV 2/3; 12/20] END max_depth=162, max_features=log2, min_samples_leaf=218, min_samples_split=66, n_estimators=202;, score=0.502 total time=   0.4s\n",
      "[CV 3/3; 12/20] START max_depth=162, max_features=log2, min_samples_leaf=218, min_samples_split=66, n_estimators=202\n",
      "[CV 3/3; 12/20] END max_depth=162, max_features=log2, min_samples_leaf=218, min_samples_split=66, n_estimators=202;, score=0.504 total time=   0.4s\n",
      "[CV 1/3; 13/20] START max_depth=218, max_features=0.25, min_samples_leaf=114, min_samples_split=26, n_estimators=702\n",
      "[CV 1/3; 13/20] END max_depth=218, max_features=0.25, min_samples_leaf=114, min_samples_split=26, n_estimators=702;, score=0.621 total time=   1.2s\n",
      "[CV 2/3; 13/20] START max_depth=218, max_features=0.25, min_samples_leaf=114, min_samples_split=26, n_estimators=702\n",
      "[CV 2/3; 13/20] END max_depth=218, max_features=0.25, min_samples_leaf=114, min_samples_split=26, n_estimators=702;, score=0.579 total time=   1.2s\n",
      "[CV 3/3; 13/20] START max_depth=218, max_features=0.25, min_samples_leaf=114, min_samples_split=26, n_estimators=702\n",
      "[CV 3/3; 13/20] END max_depth=218, max_features=0.25, min_samples_leaf=114, min_samples_split=26, n_estimators=702;, score=0.585 total time=   1.8s\n",
      "[CV 1/3; 14/20] START max_depth=178, max_features=0.25, min_samples_leaf=22, min_samples_split=70, n_estimators=2\n",
      "[CV 1/3; 14/20] END max_depth=178, max_features=0.25, min_samples_leaf=22, min_samples_split=70, n_estimators=2;, score=0.596 total time=   0.0s\n",
      "[CV 2/3; 14/20] START max_depth=178, max_features=0.25, min_samples_leaf=22, min_samples_split=70, n_estimators=2\n",
      "[CV 2/3; 14/20] END max_depth=178, max_features=0.25, min_samples_leaf=22, min_samples_split=70, n_estimators=2;, score=0.614 total time=   0.0s\n",
      "[CV 3/3; 14/20] START max_depth=178, max_features=0.25, min_samples_leaf=22, min_samples_split=70, n_estimators=2\n",
      "[CV 3/3; 14/20] END max_depth=178, max_features=0.25, min_samples_leaf=22, min_samples_split=70, n_estimators=2;, score=0.542 total time=   0.0s\n",
      "[CV 1/3; 15/20] START max_depth=2, max_features=0.5, min_samples_leaf=98, min_samples_split=90, n_estimators=802\n",
      "[CV 1/3; 15/20] END max_depth=2, max_features=0.5, min_samples_leaf=98, min_samples_split=90, n_estimators=802;, score=0.642 total time=   2.0s\n",
      "[CV 2/3; 15/20] START max_depth=2, max_features=0.5, min_samples_leaf=98, min_samples_split=90, n_estimators=802\n",
      "[CV 2/3; 15/20] END max_depth=2, max_features=0.5, min_samples_leaf=98, min_samples_split=90, n_estimators=802;, score=0.589 total time=   3.3s\n",
      "[CV 3/3; 15/20] START max_depth=2, max_features=0.5, min_samples_leaf=98, min_samples_split=90, n_estimators=802\n",
      "[CV 3/3; 15/20] END max_depth=2, max_features=0.5, min_samples_leaf=98, min_samples_split=90, n_estimators=802;, score=0.609 total time=   3.6s\n",
      "[CV 1/3; 16/20] START max_depth=78, max_features=0.5, min_samples_leaf=262, min_samples_split=26, n_estimators=302\n",
      "[CV 1/3; 16/20] END max_depth=78, max_features=0.5, min_samples_leaf=262, min_samples_split=26, n_estimators=302;, score=0.505 total time=   0.5s\n",
      "[CV 2/3; 16/20] START max_depth=78, max_features=0.5, min_samples_leaf=262, min_samples_split=26, n_estimators=302\n",
      "[CV 2/3; 16/20] END max_depth=78, max_features=0.5, min_samples_leaf=262, min_samples_split=26, n_estimators=302;, score=0.502 total time=   0.5s\n",
      "[CV 3/3; 16/20] START max_depth=78, max_features=0.5, min_samples_leaf=262, min_samples_split=26, n_estimators=302\n",
      "[CV 3/3; 16/20] END max_depth=78, max_features=0.5, min_samples_leaf=262, min_samples_split=26, n_estimators=302;, score=0.504 total time=   0.5s\n",
      "[CV 1/3; 17/20] START max_depth=266, max_features=0.75, min_samples_leaf=114, min_samples_split=22, n_estimators=902\n",
      "[CV 1/3; 17/20] END max_depth=266, max_features=0.75, min_samples_leaf=114, min_samples_split=22, n_estimators=902;, score=0.632 total time=   1.7s\n",
      "[CV 2/3; 17/20] START max_depth=266, max_features=0.75, min_samples_leaf=114, min_samples_split=22, n_estimators=902\n",
      "[CV 2/3; 17/20] END max_depth=266, max_features=0.75, min_samples_leaf=114, min_samples_split=22, n_estimators=902;, score=0.604 total time=   1.6s\n",
      "[CV 3/3; 17/20] START max_depth=266, max_features=0.75, min_samples_leaf=114, min_samples_split=22, n_estimators=902\n",
      "[CV 3/3; 17/20] END max_depth=266, max_features=0.75, min_samples_leaf=114, min_samples_split=22, n_estimators=902;, score=0.606 total time=   1.8s\n",
      "[CV 1/3; 18/20] START max_depth=258, max_features=log2, min_samples_leaf=106, min_samples_split=66, n_estimators=602\n",
      "[CV 1/3; 18/20] END max_depth=258, max_features=log2, min_samples_leaf=106, min_samples_split=66, n_estimators=602;, score=0.625 total time=   1.0s\n",
      "[CV 2/3; 18/20] START max_depth=258, max_features=log2, min_samples_leaf=106, min_samples_split=66, n_estimators=602\n",
      "[CV 2/3; 18/20] END max_depth=258, max_features=log2, min_samples_leaf=106, min_samples_split=66, n_estimators=602;, score=0.572 total time=   1.1s\n",
      "[CV 3/3; 18/20] START max_depth=258, max_features=log2, min_samples_leaf=106, min_samples_split=66, n_estimators=602\n",
      "[CV 3/3; 18/20] END max_depth=258, max_features=log2, min_samples_leaf=106, min_samples_split=66, n_estimators=602;, score=0.595 total time=   1.0s\n",
      "[CV 1/3; 19/20] START max_depth=278, max_features=0.5, min_samples_leaf=214, min_samples_split=14, n_estimators=802\n",
      "[CV 1/3; 19/20] END max_depth=278, max_features=0.5, min_samples_leaf=214, min_samples_split=14, n_estimators=802;, score=0.505 total time=   1.2s\n",
      "[CV 2/3; 19/20] START max_depth=278, max_features=0.5, min_samples_leaf=214, min_samples_split=14, n_estimators=802\n",
      "[CV 2/3; 19/20] END max_depth=278, max_features=0.5, min_samples_leaf=214, min_samples_split=14, n_estimators=802;, score=0.502 total time=   1.2s\n",
      "[CV 3/3; 19/20] START max_depth=278, max_features=0.5, min_samples_leaf=214, min_samples_split=14, n_estimators=802\n",
      "[CV 3/3; 19/20] END max_depth=278, max_features=0.5, min_samples_leaf=214, min_samples_split=14, n_estimators=802;, score=0.504 total time=   1.2s\n",
      "[CV 1/3; 20/20] START max_depth=94, max_features=0.75, min_samples_leaf=218, min_samples_split=94, n_estimators=202\n",
      "[CV 1/3; 20/20] END max_depth=94, max_features=0.75, min_samples_leaf=218, min_samples_split=94, n_estimators=202;, score=0.505 total time=   0.3s\n",
      "[CV 2/3; 20/20] START max_depth=94, max_features=0.75, min_samples_leaf=218, min_samples_split=94, n_estimators=202\n",
      "[CV 2/3; 20/20] END max_depth=94, max_features=0.75, min_samples_leaf=218, min_samples_split=94, n_estimators=202;, score=0.502 total time=   0.3s\n",
      "[CV 3/3; 20/20] START max_depth=94, max_features=0.75, min_samples_leaf=218, min_samples_split=94, n_estimators=202\n",
      "[CV 3/3; 20/20] END max_depth=94, max_features=0.75, min_samples_leaf=218, min_samples_split=94, n_estimators=202;, score=0.504 total time=   0.3s\n"
     ]
    },
    {
     "data": {
      "text/plain": [
       "{'n_estimators': 602,\n",
       " 'min_samples_split': 46,\n",
       " 'min_samples_leaf': 26,\n",
       " 'max_features': 0.75,\n",
       " 'max_depth': 38}"
      ]
     },
     "execution_count": 19,
     "metadata": {},
     "output_type": "execute_result"
    }
   ],
   "source": [
    "param_grid = {'n_estimators': list(range(2,1000,100)),\n",
    "              'max_depth': list(range(2, 300, 4)),\n",
    "              'max_features' : ['sqrt', 'log2', 0.25, 0.50, 0.75, 1],\n",
    "              'min_samples_split': list(range(2, 100, 4)),\n",
    "              'min_samples_leaf': list(range(2, 300, 4))}\n",
    "\n",
    "rfs = RandomForestClassifier()\n",
    "\n",
    "randoms = RandomizedSearchCV(rfs, param_distributions= param_grid, n_iter = 20,\n",
    "                             n_jobs = 1, cv = 3, verbose = 10, scoring = 'accuracy')\n",
    "\n",
    "randoms.fit(xtrain_if, ytrain)\n",
    "\n",
    "randoms.best_params_"
   ]
  },
  {
   "cell_type": "code",
   "execution_count": 31,
   "metadata": {
    "id": "9V3vMpIe2FdT"
   },
   "outputs": [],
   "source": [
    "rfc_best = RandomForestClassifier(n_estimators = 602, max_depth = 38, \n",
    "                                  min_samples_split = 46, min_samples_leaf = 26, \n",
    "                                  max_features = 0.75, random_state = 70)\n",
    "\n",
    "rfc_best.fit(xtrain_if, ytrain)\n",
    "\n",
    "y_pred_if = rfc_best.predict(xtest_if)"
   ]
  },
  {
   "cell_type": "markdown",
   "metadata": {
    "id": "jvti3iOmB-4S"
   },
   "source": [
    "#### Model with Feature Importance Evaluation"
   ]
  },
  {
   "cell_type": "code",
   "execution_count": 32,
   "metadata": {
    "colab": {
     "base_uri": "https://localhost:8080/"
    },
    "executionInfo": {
     "elapsed": 17,
     "status": "ok",
     "timestamp": 1679180061421,
     "user": {
      "displayName": "miroalexander tiopan",
      "userId": "02347598650366603084"
     },
     "user_tz": -420
    },
    "id": "o4X_vRxc1uRc",
    "outputId": "aabb8aae-eb8a-4c6f-f19c-9c809bb82f46"
   },
   "outputs": [
    {
     "data": {
      "text/plain": [
       "array([[137,  56],\n",
       "       [ 68, 105]])"
      ]
     },
     "execution_count": 32,
     "metadata": {},
     "output_type": "execute_result"
    }
   ],
   "source": [
    "confusion_matrix(ytest, y_pred_if)"
   ]
  },
  {
   "cell_type": "code",
   "execution_count": 33,
   "metadata": {
    "colab": {
     "base_uri": "https://localhost:8080/"
    },
    "executionInfo": {
     "elapsed": 16,
     "status": "ok",
     "timestamp": 1679180061423,
     "user": {
      "displayName": "miroalexander tiopan",
      "userId": "02347598650366603084"
     },
     "user_tz": -420
    },
    "id": "hoh88kz11xhV",
    "outputId": "97608ef8-8d9d-4bd9-8f81-25b8db7538ed"
   },
   "outputs": [
    {
     "name": "stdout",
     "output_type": "stream",
     "text": [
      "  Evaluation    Result\n",
      "0   Accuracy  0.661202\n",
      "1  Precision  0.652174\n",
      "2     Recall  0.606936\n",
      "3   F1 Score  0.628743\n"
     ]
    }
   ],
   "source": [
    "accuracy = accuracy_score(ytest, y_pred_if)\n",
    "precision = precision_score(ytest, y_pred_if)\n",
    "recall = recall_score(ytest, y_pred_if)\n",
    "f1 = f1_score(ytest, y_pred_if)\n",
    "\n",
    "result = {'Evaluation': ['Accuracy', 'Precision', 'Recall', 'F1 Score'],\n",
    "'Result': [accuracy, precision, recall, f1]}\n",
    "\n",
    "result_df = pd.DataFrame(result)\n",
    "print(result_df)"
   ]
  },
  {
   "cell_type": "code",
   "execution_count": 34,
   "metadata": {
    "colab": {
     "base_uri": "https://localhost:8080/",
     "height": 404
    },
    "executionInfo": {
     "elapsed": 820,
     "status": "ok",
     "timestamp": 1679180071668,
     "user": {
      "displayName": "miroalexander tiopan",
      "userId": "02347598650366603084"
     },
     "user_tz": -420
    },
    "id": "JeDrp99L11eq",
    "outputId": "11ba9121-7b9f-434c-ea35-41daa3b8b982"
   },
   "outputs": [
    {
     "data": {
      "image/png": "[encoded data removed]",
      "text/plain": [
       "<Figure size 800x600 with 1 Axes>"
      ]
     },
     "metadata": {},
     "output_type": "display_data"
    }
   ],
   "source": [
    "auc = roc_auc_score(ytest, y_pred_if)\n",
    "\n",
    "fpr, tpr, threshold = roc_curve(ytest, y_pred_if)\n",
    "\n",
    "plt.figure(figsize = (8, 6))\n",
    "plt.title(\"AUC & ROC Curve\")\n",
    "plt.plot(fpr, tpr)\n",
    "plt.fill_between(fpr, tpr, facecolor = 'yellow', alpha = 0.7)\n",
    "plt.text(0.95, 0.05, 'AUC = %0.4f' %auc, ha = 'right', fontsize = 12, color = 'black')\n",
    "plt.xlabel('False Positive Rate')\n",
    "plt.ylabel('True Positive Rate')\n",
    "plt.show()"
   ]
  },
  {
   "cell_type": "markdown",
   "metadata": {},
   "source": [
    "AUC of 0.6584 suggests that the model has some discriminatory ability, but it is not very strong."
   ]
  },
  {
   "cell_type": "markdown",
   "metadata": {
    "id": "ZgahCDMAa_AB"
   },
   "source": [
    "### Random Forest with Random Search"
   ]
  },
  {
   "cell_type": "markdown",
   "metadata": {
    "id": "WAYUY0DY2_T2"
   },
   "source": [
    "#### Random Search"
   ]
  },
  {
   "cell_type": "code",
   "execution_count": 24,
   "metadata": {
    "colab": {
     "base_uri": "https://localhost:8080/"
    },
    "executionInfo": {
     "elapsed": 1200796,
     "status": "ok",
     "timestamp": 1679170391278,
     "user": {
      "displayName": "miroalexander tiopan",
      "userId": "02347598650366603084"
     },
     "user_tz": -420
    },
    "id": "Gow-xD5la-Uh",
    "outputId": "b4f6ea58-daf6-4d4e-cca6-ca39bdbedbe6"
   },
   "outputs": [
    {
     "name": "stdout",
     "output_type": "stream",
     "text": [
      "Fitting 3 folds for each of 50 candidates, totalling 150 fits\n",
      "[CV 1/3; 1/50] START max_depth=14, max_features=0.25, min_samples_leaf=12, min_samples_split=13, n_estimators=975\n",
      "[CV 1/3; 1/50] END max_depth=14, max_features=0.25, min_samples_leaf=12, min_samples_split=13, n_estimators=975;, score=0.709 total time=   2.9s\n",
      "[CV 2/3; 1/50] START max_depth=14, max_features=0.25, min_samples_leaf=12, min_samples_split=13, n_estimators=975\n",
      "[CV 2/3; 1/50] END max_depth=14, max_features=0.25, min_samples_leaf=12, min_samples_split=13, n_estimators=975;, score=0.653 total time=   2.7s\n",
      "[CV 3/3; 1/50] START max_depth=14, max_features=0.25, min_samples_leaf=12, min_samples_split=13, n_estimators=975\n",
      "[CV 3/3; 1/50] END max_depth=14, max_features=0.25, min_samples_leaf=12, min_samples_split=13, n_estimators=975;, score=0.655 total time=   3.1s\n",
      "[CV 1/3; 2/50] START max_depth=24, max_features=log2, min_samples_leaf=6, min_samples_split=28, n_estimators=700\n",
      "[CV 1/3; 2/50] END max_depth=24, max_features=log2, min_samples_leaf=6, min_samples_split=28, n_estimators=700;, score=0.695 total time=   2.6s\n",
      "[CV 2/3; 2/50] START max_depth=24, max_features=log2, min_samples_leaf=6, min_samples_split=28, n_estimators=700\n",
      "[CV 2/3; 2/50] END max_depth=24, max_features=log2, min_samples_leaf=6, min_samples_split=28, n_estimators=700;, score=0.646 total time=   1.9s\n",
      "[CV 3/3; 2/50] START max_depth=24, max_features=log2, min_samples_leaf=6, min_samples_split=28, n_estimators=700\n",
      "[CV 3/3; 2/50] END max_depth=24, max_features=log2, min_samples_leaf=6, min_samples_split=28, n_estimators=700;, score=0.648 total time=   2.5s\n",
      "[CV 1/3; 3/50] START max_depth=22, max_features=log2, min_samples_leaf=7, min_samples_split=16, n_estimators=575\n",
      "[CV 1/3; 3/50] END max_depth=22, max_features=log2, min_samples_leaf=7, min_samples_split=16, n_estimators=575;, score=0.695 total time=   1.7s\n",
      "[CV 2/3; 3/50] START max_depth=22, max_features=log2, min_samples_leaf=7, min_samples_split=16, n_estimators=575\n",
      "[CV 2/3; 3/50] END max_depth=22, max_features=log2, min_samples_leaf=7, min_samples_split=16, n_estimators=575;, score=0.667 total time=   1.5s\n",
      "[CV 3/3; 3/50] START max_depth=22, max_features=log2, min_samples_leaf=7, min_samples_split=16, n_estimators=575\n",
      "[CV 3/3; 3/50] END max_depth=22, max_features=log2, min_samples_leaf=7, min_samples_split=16, n_estimators=575;, score=0.662 total time=   1.5s\n",
      "[CV 1/3; 4/50] START max_depth=14, max_features=0.75, min_samples_leaf=2, min_samples_split=18, n_estimators=725\n",
      "[CV 1/3; 4/50] END max_depth=14, max_features=0.75, min_samples_leaf=2, min_samples_split=18, n_estimators=725;, score=0.716 total time=   5.1s\n",
      "[CV 2/3; 4/50] START max_depth=14, max_features=0.75, min_samples_leaf=2, min_samples_split=18, n_estimators=725\n",
      "[CV 2/3; 4/50] END max_depth=14, max_features=0.75, min_samples_leaf=2, min_samples_split=18, n_estimators=725;, score=0.653 total time=   5.0s\n",
      "[CV 3/3; 4/50] START max_depth=14, max_features=0.75, min_samples_leaf=2, min_samples_split=18, n_estimators=725\n",
      "[CV 3/3; 4/50] END max_depth=14, max_features=0.75, min_samples_leaf=2, min_samples_split=18, n_estimators=725;, score=0.665 total time=   5.1s\n",
      "[CV 1/3; 5/50] START max_depth=7, max_features=0.75, min_samples_leaf=15, min_samples_split=28, n_estimators=700\n",
      "[CV 1/3; 5/50] END max_depth=7, max_features=0.75, min_samples_leaf=15, min_samples_split=28, n_estimators=700;, score=0.688 total time=   3.4s\n",
      "[CV 2/3; 5/50] START max_depth=7, max_features=0.75, min_samples_leaf=15, min_samples_split=28, n_estimators=700\n",
      "[CV 2/3; 5/50] END max_depth=7, max_features=0.75, min_samples_leaf=15, min_samples_split=28, n_estimators=700;, score=0.656 total time=   3.4s\n",
      "[CV 3/3; 5/50] START max_depth=7, max_features=0.75, min_samples_leaf=15, min_samples_split=28, n_estimators=700\n",
      "[CV 3/3; 5/50] END max_depth=7, max_features=0.75, min_samples_leaf=15, min_samples_split=28, n_estimators=700;, score=0.644 total time=   3.6s\n",
      "[CV 1/3; 6/50] START max_depth=23, max_features=log2, min_samples_leaf=10, min_samples_split=28, n_estimators=325\n",
      "[CV 1/3; 6/50] END max_depth=23, max_features=log2, min_samples_leaf=10, min_samples_split=28, n_estimators=325;, score=0.688 total time=   0.8s\n",
      "[CV 2/3; 6/50] START max_depth=23, max_features=log2, min_samples_leaf=10, min_samples_split=28, n_estimators=325\n",
      "[CV 2/3; 6/50] END max_depth=23, max_features=log2, min_samples_leaf=10, min_samples_split=28, n_estimators=325;, score=0.646 total time=   0.8s\n",
      "[CV 3/3; 6/50] START max_depth=23, max_features=log2, min_samples_leaf=10, min_samples_split=28, n_estimators=325\n",
      "[CV 3/3; 6/50] END max_depth=23, max_features=log2, min_samples_leaf=10, min_samples_split=28, n_estimators=325;, score=0.651 total time=   0.8s\n",
      "[CV 1/3; 7/50] START max_depth=8, max_features=0.75, min_samples_leaf=2, min_samples_split=26, n_estimators=750\n",
      "[CV 1/3; 7/50] END max_depth=8, max_features=0.75, min_samples_leaf=2, min_samples_split=26, n_estimators=750;, score=0.691 total time=   4.7s\n",
      "[CV 2/3; 7/50] START max_depth=8, max_features=0.75, min_samples_leaf=2, min_samples_split=26, n_estimators=750\n",
      "[CV 2/3; 7/50] END max_depth=8, max_features=0.75, min_samples_leaf=2, min_samples_split=26, n_estimators=750;, score=0.649 total time=   4.5s\n",
      "[CV 3/3; 7/50] START max_depth=8, max_features=0.75, min_samples_leaf=2, min_samples_split=26, n_estimators=750\n",
      "[CV 3/3; 7/50] END max_depth=8, max_features=0.75, min_samples_leaf=2, min_samples_split=26, n_estimators=750;, score=0.641 total time=   4.7s\n",
      "[CV 1/3; 8/50] START max_depth=22, max_features=0.25, min_samples_leaf=13, min_samples_split=28, n_estimators=500\n",
      "[CV 1/3; 8/50] END max_depth=22, max_features=0.25, min_samples_leaf=13, min_samples_split=28, n_estimators=500;, score=0.695 total time=   1.4s\n",
      "[CV 2/3; 8/50] START max_depth=22, max_features=0.25, min_samples_leaf=13, min_samples_split=28, n_estimators=500\n",
      "[CV 2/3; 8/50] END max_depth=22, max_features=0.25, min_samples_leaf=13, min_samples_split=28, n_estimators=500;, score=0.653 total time=   1.4s\n",
      "[CV 3/3; 8/50] START max_depth=22, max_features=0.25, min_samples_leaf=13, min_samples_split=28, n_estimators=500\n",
      "[CV 3/3; 8/50] END max_depth=22, max_features=0.25, min_samples_leaf=13, min_samples_split=28, n_estimators=500;, score=0.634 total time=   1.4s\n",
      "[CV 1/3; 9/50] START max_depth=14, max_features=0.25, min_samples_leaf=11, min_samples_split=28, n_estimators=500\n",
      "[CV 1/3; 9/50] END max_depth=14, max_features=0.25, min_samples_leaf=11, min_samples_split=28, n_estimators=500;, score=0.702 total time=   1.4s\n",
      "[CV 2/3; 9/50] START max_depth=14, max_features=0.25, min_samples_leaf=11, min_samples_split=28, n_estimators=500\n",
      "[CV 2/3; 9/50] END max_depth=14, max_features=0.25, min_samples_leaf=11, min_samples_split=28, n_estimators=500;, score=0.642 total time=   1.4s\n",
      "[CV 3/3; 9/50] START max_depth=14, max_features=0.25, min_samples_leaf=11, min_samples_split=28, n_estimators=500\n",
      "[CV 3/3; 9/50] END max_depth=14, max_features=0.25, min_samples_leaf=11, min_samples_split=28, n_estimators=500;, score=0.662 total time=   1.7s\n",
      "[CV 1/3; 10/50] START max_depth=8, max_features=0.75, min_samples_leaf=7, min_samples_split=10, n_estimators=975\n",
      "[CV 1/3; 10/50] END max_depth=8, max_features=0.75, min_samples_leaf=7, min_samples_split=10, n_estimators=975;, score=0.695 total time=   6.2s\n",
      "[CV 2/3; 10/50] START max_depth=8, max_features=0.75, min_samples_leaf=7, min_samples_split=10, n_estimators=975\n",
      "[CV 2/3; 10/50] END max_depth=8, max_features=0.75, min_samples_leaf=7, min_samples_split=10, n_estimators=975;, score=0.660 total time=   5.5s\n",
      "[CV 3/3; 10/50] START max_depth=8, max_features=0.75, min_samples_leaf=7, min_samples_split=10, n_estimators=975\n",
      "[CV 3/3; 10/50] END max_depth=8, max_features=0.75, min_samples_leaf=7, min_samples_split=10, n_estimators=975;, score=0.644 total time=   5.6s\n",
      "[CV 1/3; 11/50] START max_depth=9, max_features=0.75, min_samples_leaf=25, min_samples_split=12, n_estimators=700\n",
      "[CV 1/3; 11/50] END max_depth=9, max_features=0.75, min_samples_leaf=25, min_samples_split=12, n_estimators=700;, score=0.691 total time=   3.1s\n",
      "[CV 2/3; 11/50] START max_depth=9, max_features=0.75, min_samples_leaf=25, min_samples_split=12, n_estimators=700\n",
      "[CV 2/3; 11/50] END max_depth=9, max_features=0.75, min_samples_leaf=25, min_samples_split=12, n_estimators=700;, score=0.639 total time=   2.9s\n",
      "[CV 3/3; 11/50] START max_depth=9, max_features=0.75, min_samples_leaf=25, min_samples_split=12, n_estimators=700\n",
      "[CV 3/3; 11/50] END max_depth=9, max_features=0.75, min_samples_leaf=25, min_samples_split=12, n_estimators=700;, score=0.637 total time=   3.0s\n",
      "[CV 1/3; 12/50] START max_depth=7, max_features=1, min_samples_leaf=23, min_samples_split=12, n_estimators=400\n",
      "[CV 1/3; 12/50] END max_depth=7, max_features=1, min_samples_leaf=23, min_samples_split=12, n_estimators=400;, score=0.649 total time=   0.7s\n",
      "[CV 2/3; 12/50] START max_depth=7, max_features=1, min_samples_leaf=23, min_samples_split=12, n_estimators=400\n",
      "[CV 2/3; 12/50] END max_depth=7, max_features=1, min_samples_leaf=23, min_samples_split=12, n_estimators=400;, score=0.611 total time=   0.7s\n",
      "[CV 3/3; 12/50] START max_depth=7, max_features=1, min_samples_leaf=23, min_samples_split=12, n_estimators=400\n",
      "[CV 3/3; 12/50] END max_depth=7, max_features=1, min_samples_leaf=23, min_samples_split=12, n_estimators=400;, score=0.630 total time=   0.7s\n",
      "[CV 1/3; 13/50] START max_depth=4, max_features=sqrt, min_samples_leaf=13, min_samples_split=2, n_estimators=875\n",
      "[CV 1/3; 13/50] END max_depth=4, max_features=sqrt, min_samples_leaf=13, min_samples_split=2, n_estimators=875;, score=0.695 total time=   2.0s\n",
      "[CV 2/3; 13/50] START max_depth=4, max_features=sqrt, min_samples_leaf=13, min_samples_split=2, n_estimators=875\n",
      "[CV 2/3; 13/50] END max_depth=4, max_features=sqrt, min_samples_leaf=13, min_samples_split=2, n_estimators=875;, score=0.611 total time=   2.2s\n",
      "[CV 3/3; 13/50] START max_depth=4, max_features=sqrt, min_samples_leaf=13, min_samples_split=2, n_estimators=875\n",
      "[CV 3/3; 13/50] END max_depth=4, max_features=sqrt, min_samples_leaf=13, min_samples_split=2, n_estimators=875;, score=0.634 total time=   2.3s\n",
      "[CV 1/3; 14/50] START max_depth=6, max_features=0.25, min_samples_leaf=13, min_samples_split=10, n_estimators=775\n",
      "[CV 1/3; 14/50] END max_depth=6, max_features=0.25, min_samples_leaf=13, min_samples_split=10, n_estimators=775;, score=0.702 total time=   2.2s\n",
      "[CV 2/3; 14/50] START max_depth=6, max_features=0.25, min_samples_leaf=13, min_samples_split=10, n_estimators=775\n",
      "[CV 2/3; 14/50] END max_depth=6, max_features=0.25, min_samples_leaf=13, min_samples_split=10, n_estimators=775;, score=0.653 total time=   2.0s\n",
      "[CV 3/3; 14/50] START max_depth=6, max_features=0.25, min_samples_leaf=13, min_samples_split=10, n_estimators=775\n",
      "[CV 3/3; 14/50] END max_depth=6, max_features=0.25, min_samples_leaf=13, min_samples_split=10, n_estimators=775;, score=0.641 total time=   2.0s\n",
      "[CV 1/3; 15/50] START max_depth=15, max_features=sqrt, min_samples_leaf=3, min_samples_split=18, n_estimators=250\n",
      "[CV 1/3; 15/50] END max_depth=15, max_features=sqrt, min_samples_leaf=3, min_samples_split=18, n_estimators=250;, score=0.705 total time=   0.8s\n",
      "[CV 2/3; 15/50] START max_depth=15, max_features=sqrt, min_samples_leaf=3, min_samples_split=18, n_estimators=250\n",
      "[CV 2/3; 15/50] END max_depth=15, max_features=sqrt, min_samples_leaf=3, min_samples_split=18, n_estimators=250;, score=0.653 total time=   0.8s\n",
      "[CV 3/3; 15/50] START max_depth=15, max_features=sqrt, min_samples_leaf=3, min_samples_split=18, n_estimators=250\n",
      "[CV 3/3; 15/50] END max_depth=15, max_features=sqrt, min_samples_leaf=3, min_samples_split=18, n_estimators=250;, score=0.651 total time=   0.9s\n",
      "[CV 1/3; 16/50] START max_depth=7, max_features=1, min_samples_leaf=6, min_samples_split=4, n_estimators=500\n",
      "[CV 1/3; 16/50] END max_depth=7, max_features=1, min_samples_leaf=6, min_samples_split=4, n_estimators=500;, score=0.663 total time=   1.0s\n",
      "[CV 2/3; 16/50] START max_depth=7, max_features=1, min_samples_leaf=6, min_samples_split=4, n_estimators=500\n",
      "[CV 2/3; 16/50] END max_depth=7, max_features=1, min_samples_leaf=6, min_samples_split=4, n_estimators=500;, score=0.639 total time=   0.9s\n",
      "[CV 3/3; 16/50] START max_depth=7, max_features=1, min_samples_leaf=6, min_samples_split=4, n_estimators=500\n",
      "[CV 3/3; 16/50] END max_depth=7, max_features=1, min_samples_leaf=6, min_samples_split=4, n_estimators=500;, score=0.641 total time=   0.9s\n",
      "[CV 1/3; 17/50] START max_depth=6, max_features=sqrt, min_samples_leaf=13, min_samples_split=13, n_estimators=475\n",
      "[CV 1/3; 17/50] END max_depth=6, max_features=sqrt, min_samples_leaf=13, min_samples_split=13, n_estimators=475;, score=0.691 total time=   1.2s\n",
      "[CV 2/3; 17/50] START max_depth=6, max_features=sqrt, min_samples_leaf=13, min_samples_split=13, n_estimators=475\n",
      "[CV 2/3; 17/50] END max_depth=6, max_features=sqrt, min_samples_leaf=13, min_samples_split=13, n_estimators=475;, score=0.642 total time=   1.2s\n",
      "[CV 3/3; 17/50] START max_depth=6, max_features=sqrt, min_samples_leaf=13, min_samples_split=13, n_estimators=475\n",
      "[CV 3/3; 17/50] END max_depth=6, max_features=sqrt, min_samples_leaf=13, min_samples_split=13, n_estimators=475;, score=0.644 total time=   1.2s\n",
      "[CV 1/3; 18/50] START max_depth=24, max_features=0.75, min_samples_leaf=10, min_samples_split=5, n_estimators=450\n",
      "[CV 1/3; 18/50] END max_depth=24, max_features=0.75, min_samples_leaf=10, min_samples_split=5, n_estimators=450;, score=0.709 total time=   2.5s\n",
      "[CV 2/3; 18/50] START max_depth=24, max_features=0.75, min_samples_leaf=10, min_samples_split=5, n_estimators=450\n",
      "[CV 2/3; 18/50] END max_depth=24, max_features=0.75, min_samples_leaf=10, min_samples_split=5, n_estimators=450;, score=0.663 total time=   2.5s\n",
      "[CV 3/3; 18/50] START max_depth=24, max_features=0.75, min_samples_leaf=10, min_samples_split=5, n_estimators=450\n",
      "[CV 3/3; 18/50] END max_depth=24, max_features=0.75, min_samples_leaf=10, min_samples_split=5, n_estimators=450;, score=0.651 total time=   2.5s\n",
      "[CV 1/3; 19/50] START max_depth=29, max_features=0.75, min_samples_leaf=5, min_samples_split=8, n_estimators=900\n",
      "[CV 1/3; 19/50] END max_depth=29, max_features=0.75, min_samples_leaf=5, min_samples_split=8, n_estimators=900;, score=0.719 total time=   6.8s\n",
      "[CV 2/3; 19/50] START max_depth=29, max_features=0.75, min_samples_leaf=5, min_samples_split=8, n_estimators=900\n",
      "[CV 2/3; 19/50] END max_depth=29, max_features=0.75, min_samples_leaf=5, min_samples_split=8, n_estimators=900;, score=0.656 total time=   7.0s\n",
      "[CV 3/3; 19/50] START max_depth=29, max_features=0.75, min_samples_leaf=5, min_samples_split=8, n_estimators=900\n",
      "[CV 3/3; 19/50] END max_depth=29, max_features=0.75, min_samples_leaf=5, min_samples_split=8, n_estimators=900;, score=0.655 total time=   6.0s\n",
      "[CV 1/3; 20/50] START max_depth=19, max_features=0.75, min_samples_leaf=21, min_samples_split=27, n_estimators=500\n",
      "[CV 1/3; 20/50] END max_depth=19, max_features=0.75, min_samples_leaf=21, min_samples_split=27, n_estimators=500;, score=0.695 total time=   2.3s\n",
      "[CV 2/3; 20/50] START max_depth=19, max_features=0.75, min_samples_leaf=21, min_samples_split=27, n_estimators=500\n",
      "[CV 2/3; 20/50] END max_depth=19, max_features=0.75, min_samples_leaf=21, min_samples_split=27, n_estimators=500;, score=0.653 total time=   2.3s\n",
      "[CV 3/3; 20/50] START max_depth=19, max_features=0.75, min_samples_leaf=21, min_samples_split=27, n_estimators=500\n",
      "[CV 3/3; 20/50] END max_depth=19, max_features=0.75, min_samples_leaf=21, min_samples_split=27, n_estimators=500;, score=0.637 total time=   2.3s\n",
      "[CV 1/3; 21/50] START max_depth=24, max_features=0.75, min_samples_leaf=28, min_samples_split=8, n_estimators=650\n",
      "[CV 1/3; 21/50] END max_depth=24, max_features=0.75, min_samples_leaf=28, min_samples_split=8, n_estimators=650;, score=0.667 total time=   2.8s\n",
      "[CV 2/3; 21/50] START max_depth=24, max_features=0.75, min_samples_leaf=28, min_samples_split=8, n_estimators=650\n",
      "[CV 2/3; 21/50] END max_depth=24, max_features=0.75, min_samples_leaf=28, min_samples_split=8, n_estimators=650;, score=0.618 total time=   2.6s\n",
      "[CV 3/3; 21/50] START max_depth=24, max_features=0.75, min_samples_leaf=28, min_samples_split=8, n_estimators=650\n",
      "[CV 3/3; 21/50] END max_depth=24, max_features=0.75, min_samples_leaf=28, min_samples_split=8, n_estimators=650;, score=0.644 total time=   2.7s\n",
      "[CV 1/3; 22/50] START max_depth=25, max_features=sqrt, min_samples_leaf=25, min_samples_split=24, n_estimators=325\n",
      "[CV 1/3; 22/50] END max_depth=25, max_features=sqrt, min_samples_leaf=25, min_samples_split=24, n_estimators=325;, score=0.684 total time=   0.8s\n",
      "[CV 2/3; 22/50] START max_depth=25, max_features=sqrt, min_samples_leaf=25, min_samples_split=24, n_estimators=325\n",
      "[CV 2/3; 22/50] END max_depth=25, max_features=sqrt, min_samples_leaf=25, min_samples_split=24, n_estimators=325;, score=0.625 total time=   0.8s\n",
      "[CV 3/3; 22/50] START max_depth=25, max_features=sqrt, min_samples_leaf=25, min_samples_split=24, n_estimators=325\n",
      "[CV 3/3; 22/50] END max_depth=25, max_features=sqrt, min_samples_leaf=25, min_samples_split=24, n_estimators=325;, score=0.627 total time=   0.8s\n",
      "[CV 1/3; 23/50] START max_depth=18, max_features=log2, min_samples_leaf=5, min_samples_split=10, n_estimators=625\n",
      "[CV 1/3; 23/50] END max_depth=18, max_features=log2, min_samples_leaf=5, min_samples_split=10, n_estimators=625;, score=0.712 total time=   1.7s\n",
      "[CV 2/3; 23/50] START max_depth=18, max_features=log2, min_samples_leaf=5, min_samples_split=10, n_estimators=625\n",
      "[CV 2/3; 23/50] END max_depth=18, max_features=log2, min_samples_leaf=5, min_samples_split=10, n_estimators=625;, score=0.653 total time=   1.7s\n",
      "[CV 3/3; 23/50] START max_depth=18, max_features=log2, min_samples_leaf=5, min_samples_split=10, n_estimators=625\n",
      "[CV 3/3; 23/50] END max_depth=18, max_features=log2, min_samples_leaf=5, min_samples_split=10, n_estimators=625;, score=0.665 total time=   1.7s\n",
      "[CV 1/3; 24/50] START max_depth=10, max_features=0.25, min_samples_leaf=22, min_samples_split=7, n_estimators=725\n",
      "[CV 1/3; 24/50] END max_depth=10, max_features=0.25, min_samples_leaf=22, min_samples_split=7, n_estimators=725;, score=0.684 total time=   1.8s\n",
      "[CV 2/3; 24/50] START max_depth=10, max_features=0.25, min_samples_leaf=22, min_samples_split=7, n_estimators=725\n",
      "[CV 2/3; 24/50] END max_depth=10, max_features=0.25, min_samples_leaf=22, min_samples_split=7, n_estimators=725;, score=0.632 total time=   1.8s\n",
      "[CV 3/3; 24/50] START max_depth=10, max_features=0.25, min_samples_leaf=22, min_samples_split=7, n_estimators=725\n",
      "[CV 3/3; 24/50] END max_depth=10, max_features=0.25, min_samples_leaf=22, min_samples_split=7, n_estimators=725;, score=0.641 total time=   2.0s\n",
      "[CV 1/3; 25/50] START max_depth=10, max_features=0.75, min_samples_leaf=15, min_samples_split=20, n_estimators=850\n",
      "[CV 1/3; 25/50] END max_depth=10, max_features=0.75, min_samples_leaf=15, min_samples_split=20, n_estimators=850;, score=0.691 total time=   4.3s\n",
      "[CV 2/3; 25/50] START max_depth=10, max_features=0.75, min_samples_leaf=15, min_samples_split=20, n_estimators=850\n",
      "[CV 2/3; 25/50] END max_depth=10, max_features=0.75, min_samples_leaf=15, min_samples_split=20, n_estimators=850;, score=0.649 total time=   4.3s\n",
      "[CV 3/3; 25/50] START max_depth=10, max_features=0.75, min_samples_leaf=15, min_samples_split=20, n_estimators=850\n",
      "[CV 3/3; 25/50] END max_depth=10, max_features=0.75, min_samples_leaf=15, min_samples_split=20, n_estimators=850;, score=0.655 total time=   4.2s\n",
      "[CV 1/3; 26/50] START max_depth=28, max_features=sqrt, min_samples_leaf=23, min_samples_split=22, n_estimators=850\n",
      "[CV 1/3; 26/50] END max_depth=28, max_features=sqrt, min_samples_leaf=23, min_samples_split=22, n_estimators=850;, score=0.695 total time=   2.1s\n",
      "[CV 2/3; 26/50] START max_depth=28, max_features=sqrt, min_samples_leaf=23, min_samples_split=22, n_estimators=850\n",
      "[CV 2/3; 26/50] END max_depth=28, max_features=sqrt, min_samples_leaf=23, min_samples_split=22, n_estimators=850;, score=0.635 total time=   2.0s\n",
      "[CV 3/3; 26/50] START max_depth=28, max_features=sqrt, min_samples_leaf=23, min_samples_split=22, n_estimators=850\n",
      "[CV 3/3; 26/50] END max_depth=28, max_features=sqrt, min_samples_leaf=23, min_samples_split=22, n_estimators=850;, score=0.630 total time=   2.4s\n",
      "[CV 1/3; 27/50] START max_depth=13, max_features=0.75, min_samples_leaf=29, min_samples_split=4, n_estimators=250\n",
      "[CV 1/3; 27/50] END max_depth=13, max_features=0.75, min_samples_leaf=29, min_samples_split=4, n_estimators=250;, score=0.674 total time=   1.1s\n",
      "[CV 2/3; 27/50] START max_depth=13, max_features=0.75, min_samples_leaf=29, min_samples_split=4, n_estimators=250\n",
      "[CV 2/3; 27/50] END max_depth=13, max_features=0.75, min_samples_leaf=29, min_samples_split=4, n_estimators=250;, score=0.618 total time=   1.0s\n",
      "[CV 3/3; 27/50] START max_depth=13, max_features=0.75, min_samples_leaf=29, min_samples_split=4, n_estimators=250\n",
      "[CV 3/3; 27/50] END max_depth=13, max_features=0.75, min_samples_leaf=29, min_samples_split=4, n_estimators=250;, score=0.644 total time=   1.0s\n",
      "[CV 1/3; 28/50] START max_depth=13, max_features=0.5, min_samples_leaf=28, min_samples_split=19, n_estimators=300\n",
      "[CV 1/3; 28/50] END max_depth=13, max_features=0.5, min_samples_leaf=28, min_samples_split=19, n_estimators=300;, score=0.677 total time=   1.0s\n",
      "[CV 2/3; 28/50] START max_depth=13, max_features=0.5, min_samples_leaf=28, min_samples_split=19, n_estimators=300\n",
      "[CV 2/3; 28/50] END max_depth=13, max_features=0.5, min_samples_leaf=28, min_samples_split=19, n_estimators=300;, score=0.635 total time=   1.0s\n",
      "[CV 3/3; 28/50] START max_depth=13, max_features=0.5, min_samples_leaf=28, min_samples_split=19, n_estimators=300\n",
      "[CV 3/3; 28/50] END max_depth=13, max_features=0.5, min_samples_leaf=28, min_samples_split=19, n_estimators=300;, score=0.634 total time=   1.0s\n",
      "[CV 1/3; 29/50] START max_depth=17, max_features=0.75, min_samples_leaf=7, min_samples_split=5, n_estimators=175\n",
      "[CV 1/3; 29/50] END max_depth=17, max_features=0.75, min_samples_leaf=7, min_samples_split=5, n_estimators=175;, score=0.712 total time=   1.0s\n",
      "[CV 2/3; 29/50] START max_depth=17, max_features=0.75, min_samples_leaf=7, min_samples_split=5, n_estimators=175\n",
      "[CV 2/3; 29/50] END max_depth=17, max_features=0.75, min_samples_leaf=7, min_samples_split=5, n_estimators=175;, score=0.649 total time=   1.0s\n",
      "[CV 3/3; 29/50] START max_depth=17, max_features=0.75, min_samples_leaf=7, min_samples_split=5, n_estimators=175\n",
      "[CV 3/3; 29/50] END max_depth=17, max_features=0.75, min_samples_leaf=7, min_samples_split=5, n_estimators=175;, score=0.634 total time=   1.1s\n",
      "[CV 1/3; 30/50] START max_depth=12, max_features=0.25, min_samples_leaf=25, min_samples_split=20, n_estimators=925\n",
      "[CV 1/3; 30/50] END max_depth=12, max_features=0.25, min_samples_leaf=25, min_samples_split=20, n_estimators=925;, score=0.684 total time=   2.3s\n",
      "[CV 2/3; 30/50] START max_depth=12, max_features=0.25, min_samples_leaf=25, min_samples_split=20, n_estimators=925\n",
      "[CV 2/3; 30/50] END max_depth=12, max_features=0.25, min_samples_leaf=25, min_samples_split=20, n_estimators=925;, score=0.625 total time=   2.2s\n",
      "[CV 3/3; 30/50] START max_depth=12, max_features=0.25, min_samples_leaf=25, min_samples_split=20, n_estimators=925\n",
      "[CV 3/3; 30/50] END max_depth=12, max_features=0.25, min_samples_leaf=25, min_samples_split=20, n_estimators=925;, score=0.637 total time=   2.2s\n",
      "[CV 1/3; 31/50] START max_depth=3, max_features=sqrt, min_samples_leaf=29, min_samples_split=28, n_estimators=750\n",
      "[CV 1/3; 31/50] END max_depth=3, max_features=sqrt, min_samples_leaf=29, min_samples_split=28, n_estimators=750;, score=0.656 total time=   1.6s\n",
      "[CV 2/3; 31/50] START max_depth=3, max_features=sqrt, min_samples_leaf=29, min_samples_split=28, n_estimators=750\n",
      "[CV 2/3; 31/50] END max_depth=3, max_features=sqrt, min_samples_leaf=29, min_samples_split=28, n_estimators=750;, score=0.600 total time=   1.5s\n",
      "[CV 3/3; 31/50] START max_depth=3, max_features=sqrt, min_samples_leaf=29, min_samples_split=28, n_estimators=750\n",
      "[CV 3/3; 31/50] END max_depth=3, max_features=sqrt, min_samples_leaf=29, min_samples_split=28, n_estimators=750;, score=0.634 total time=   1.6s\n",
      "[CV 1/3; 32/50] START max_depth=16, max_features=0.5, min_samples_leaf=16, min_samples_split=17, n_estimators=775\n",
      "[CV 1/3; 32/50] END max_depth=16, max_features=0.5, min_samples_leaf=16, min_samples_split=17, n_estimators=775;, score=0.698 total time=   3.0s\n",
      "[CV 2/3; 32/50] START max_depth=16, max_features=0.5, min_samples_leaf=16, min_samples_split=17, n_estimators=775\n",
      "[CV 2/3; 32/50] END max_depth=16, max_features=0.5, min_samples_leaf=16, min_samples_split=17, n_estimators=775;, score=0.653 total time=   2.9s\n",
      "[CV 3/3; 32/50] START max_depth=16, max_features=0.5, min_samples_leaf=16, min_samples_split=17, n_estimators=775\n",
      "[CV 3/3; 32/50] END max_depth=16, max_features=0.5, min_samples_leaf=16, min_samples_split=17, n_estimators=775;, score=0.655 total time=   3.1s\n",
      "[CV 1/3; 33/50] START max_depth=4, max_features=0.75, min_samples_leaf=17, min_samples_split=7, n_estimators=750\n",
      "[CV 1/3; 33/50] END max_depth=4, max_features=0.75, min_samples_leaf=17, min_samples_split=7, n_estimators=750;, score=0.688 total time=   3.2s\n",
      "[CV 2/3; 33/50] START max_depth=4, max_features=0.75, min_samples_leaf=17, min_samples_split=7, n_estimators=750\n",
      "[CV 2/3; 33/50] END max_depth=4, max_features=0.75, min_samples_leaf=17, min_samples_split=7, n_estimators=750;, score=0.639 total time=   3.1s\n",
      "[CV 3/3; 33/50] START max_depth=4, max_features=0.75, min_samples_leaf=17, min_samples_split=7, n_estimators=750\n",
      "[CV 3/3; 33/50] END max_depth=4, max_features=0.75, min_samples_leaf=17, min_samples_split=7, n_estimators=750;, score=0.627 total time=   3.1s\n",
      "[CV 1/3; 34/50] START max_depth=7, max_features=sqrt, min_samples_leaf=23, min_samples_split=18, n_estimators=300\n",
      "[CV 1/3; 34/50] END max_depth=7, max_features=sqrt, min_samples_leaf=23, min_samples_split=18, n_estimators=300;, score=0.691 total time=   0.7s\n",
      "[CV 2/3; 34/50] START max_depth=7, max_features=sqrt, min_samples_leaf=23, min_samples_split=18, n_estimators=300\n",
      "[CV 2/3; 34/50] END max_depth=7, max_features=sqrt, min_samples_leaf=23, min_samples_split=18, n_estimators=300;, score=0.639 total time=   0.7s\n",
      "[CV 3/3; 34/50] START max_depth=7, max_features=sqrt, min_samples_leaf=23, min_samples_split=18, n_estimators=300\n",
      "[CV 3/3; 34/50] END max_depth=7, max_features=sqrt, min_samples_leaf=23, min_samples_split=18, n_estimators=300;, score=0.637 total time=   0.7s\n",
      "[CV 1/3; 35/50] START max_depth=18, max_features=0.5, min_samples_leaf=19, min_samples_split=11, n_estimators=675\n",
      "[CV 1/3; 35/50] END max_depth=18, max_features=0.5, min_samples_leaf=19, min_samples_split=11, n_estimators=675;, score=0.688 total time=   2.8s\n",
      "[CV 2/3; 35/50] START max_depth=18, max_features=0.5, min_samples_leaf=19, min_samples_split=11, n_estimators=675\n",
      "[CV 2/3; 35/50] END max_depth=18, max_features=0.5, min_samples_leaf=19, min_samples_split=11, n_estimators=675;, score=0.653 total time=   2.4s\n",
      "[CV 3/3; 35/50] START max_depth=18, max_features=0.5, min_samples_leaf=19, min_samples_split=11, n_estimators=675\n",
      "[CV 3/3; 35/50] END max_depth=18, max_features=0.5, min_samples_leaf=19, min_samples_split=11, n_estimators=675;, score=0.651 total time=   2.6s\n",
      "[CV 1/3; 36/50] START max_depth=14, max_features=log2, min_samples_leaf=25, min_samples_split=11, n_estimators=300\n",
      "[CV 1/3; 36/50] END max_depth=14, max_features=log2, min_samples_leaf=25, min_samples_split=11, n_estimators=300;, score=0.674 total time=   0.7s\n",
      "[CV 2/3; 36/50] START max_depth=14, max_features=log2, min_samples_leaf=25, min_samples_split=11, n_estimators=300\n",
      "[CV 2/3; 36/50] END max_depth=14, max_features=log2, min_samples_leaf=25, min_samples_split=11, n_estimators=300;, score=0.614 total time=   0.7s\n",
      "[CV 3/3; 36/50] START max_depth=14, max_features=log2, min_samples_leaf=25, min_samples_split=11, n_estimators=300\n",
      "[CV 3/3; 36/50] END max_depth=14, max_features=log2, min_samples_leaf=25, min_samples_split=11, n_estimators=300;, score=0.623 total time=   0.7s\n",
      "[CV 1/3; 37/50] START max_depth=25, max_features=log2, min_samples_leaf=13, min_samples_split=18, n_estimators=300\n",
      "[CV 1/3; 37/50] END max_depth=25, max_features=log2, min_samples_leaf=13, min_samples_split=18, n_estimators=300;, score=0.691 total time=   0.8s\n",
      "[CV 2/3; 37/50] START max_depth=25, max_features=log2, min_samples_leaf=13, min_samples_split=18, n_estimators=300\n",
      "[CV 2/3; 37/50] END max_depth=25, max_features=log2, min_samples_leaf=13, min_samples_split=18, n_estimators=300;, score=0.642 total time=   0.7s\n",
      "[CV 3/3; 37/50] START max_depth=25, max_features=log2, min_samples_leaf=13, min_samples_split=18, n_estimators=300\n",
      "[CV 3/3; 37/50] END max_depth=25, max_features=log2, min_samples_leaf=13, min_samples_split=18, n_estimators=300;, score=0.655 total time=   0.7s\n",
      "[CV 1/3; 38/50] START max_depth=29, max_features=0.75, min_samples_leaf=15, min_samples_split=18, n_estimators=725\n",
      "[CV 1/3; 38/50] END max_depth=29, max_features=0.75, min_samples_leaf=15, min_samples_split=18, n_estimators=725;, score=0.705 total time=   3.7s\n",
      "[CV 2/3; 38/50] START max_depth=29, max_features=0.75, min_samples_leaf=15, min_samples_split=18, n_estimators=725\n",
      "[CV 2/3; 38/50] END max_depth=29, max_features=0.75, min_samples_leaf=15, min_samples_split=18, n_estimators=725;, score=0.646 total time=   4.1s\n",
      "[CV 3/3; 38/50] START max_depth=29, max_features=0.75, min_samples_leaf=15, min_samples_split=18, n_estimators=725\n",
      "[CV 3/3; 38/50] END max_depth=29, max_features=0.75, min_samples_leaf=15, min_samples_split=18, n_estimators=725;, score=0.648 total time=   3.7s\n",
      "[CV 1/3; 39/50] START max_depth=18, max_features=0.5, min_samples_leaf=20, min_samples_split=29, n_estimators=975\n",
      "[CV 1/3; 39/50] END max_depth=18, max_features=0.5, min_samples_leaf=20, min_samples_split=29, n_estimators=975;, score=0.684 total time=   3.5s\n",
      "[CV 2/3; 39/50] START max_depth=18, max_features=0.5, min_samples_leaf=20, min_samples_split=29, n_estimators=975\n",
      "[CV 2/3; 39/50] END max_depth=18, max_features=0.5, min_samples_leaf=20, min_samples_split=29, n_estimators=975;, score=0.642 total time=   3.5s\n",
      "[CV 3/3; 39/50] START max_depth=18, max_features=0.5, min_samples_leaf=20, min_samples_split=29, n_estimators=975\n",
      "[CV 3/3; 39/50] END max_depth=18, max_features=0.5, min_samples_leaf=20, min_samples_split=29, n_estimators=975;, score=0.641 total time=   3.6s\n",
      "[CV 1/3; 40/50] START max_depth=29, max_features=sqrt, min_samples_leaf=6, min_samples_split=28, n_estimators=450\n",
      "[CV 1/3; 40/50] END max_depth=29, max_features=sqrt, min_samples_leaf=6, min_samples_split=28, n_estimators=450;, score=0.716 total time=   1.3s\n",
      "[CV 2/3; 40/50] START max_depth=29, max_features=sqrt, min_samples_leaf=6, min_samples_split=28, n_estimators=450\n",
      "[CV 2/3; 40/50] END max_depth=29, max_features=sqrt, min_samples_leaf=6, min_samples_split=28, n_estimators=450;, score=0.663 total time=   1.2s\n",
      "[CV 3/3; 40/50] START max_depth=29, max_features=sqrt, min_samples_leaf=6, min_samples_split=28, n_estimators=450\n",
      "[CV 3/3; 40/50] END max_depth=29, max_features=sqrt, min_samples_leaf=6, min_samples_split=28, n_estimators=450;, score=0.658 total time=   1.2s\n",
      "[CV 1/3; 41/50] START max_depth=20, max_features=0.75, min_samples_leaf=29, min_samples_split=26, n_estimators=675\n",
      "[CV 1/3; 41/50] END max_depth=20, max_features=0.75, min_samples_leaf=29, min_samples_split=26, n_estimators=675;, score=0.674 total time=   2.8s\n",
      "[CV 2/3; 41/50] START max_depth=20, max_features=0.75, min_samples_leaf=29, min_samples_split=26, n_estimators=675\n",
      "[CV 2/3; 41/50] END max_depth=20, max_features=0.75, min_samples_leaf=29, min_samples_split=26, n_estimators=675;, score=0.625 total time=   2.7s\n",
      "[CV 3/3; 41/50] START max_depth=20, max_features=0.75, min_samples_leaf=29, min_samples_split=26, n_estimators=675\n",
      "[CV 3/3; 41/50] END max_depth=20, max_features=0.75, min_samples_leaf=29, min_samples_split=26, n_estimators=675;, score=0.641 total time=   2.8s\n",
      "[CV 1/3; 42/50] START max_depth=20, max_features=0.25, min_samples_leaf=2, min_samples_split=25, n_estimators=800\n",
      "[CV 1/3; 42/50] END max_depth=20, max_features=0.25, min_samples_leaf=2, min_samples_split=25, n_estimators=800;, score=0.705 total time=   2.6s\n",
      "[CV 2/3; 42/50] START max_depth=20, max_features=0.25, min_samples_leaf=2, min_samples_split=25, n_estimators=800\n",
      "[CV 2/3; 42/50] END max_depth=20, max_features=0.25, min_samples_leaf=2, min_samples_split=25, n_estimators=800;, score=0.660 total time=   2.5s\n",
      "[CV 3/3; 42/50] START max_depth=20, max_features=0.25, min_samples_leaf=2, min_samples_split=25, n_estimators=800\n",
      "[CV 3/3; 42/50] END max_depth=20, max_features=0.25, min_samples_leaf=2, min_samples_split=25, n_estimators=800;, score=0.655 total time=   2.7s\n",
      "[CV 1/3; 43/50] START max_depth=17, max_features=sqrt, min_samples_leaf=20, min_samples_split=13, n_estimators=875\n",
      "[CV 1/3; 43/50] END max_depth=17, max_features=sqrt, min_samples_leaf=20, min_samples_split=13, n_estimators=875;, score=0.691 total time=   2.1s\n",
      "[CV 2/3; 43/50] START max_depth=17, max_features=sqrt, min_samples_leaf=20, min_samples_split=13, n_estimators=875\n",
      "[CV 2/3; 43/50] END max_depth=17, max_features=sqrt, min_samples_leaf=20, min_samples_split=13, n_estimators=875;, score=0.635 total time=   2.1s\n",
      "[CV 3/3; 43/50] START max_depth=17, max_features=sqrt, min_samples_leaf=20, min_samples_split=13, n_estimators=875\n",
      "[CV 3/3; 43/50] END max_depth=17, max_features=sqrt, min_samples_leaf=20, min_samples_split=13, n_estimators=875;, score=0.637 total time=   2.1s\n",
      "[CV 1/3; 44/50] START max_depth=3, max_features=0.5, min_samples_leaf=8, min_samples_split=25, n_estimators=550\n",
      "[CV 1/3; 44/50] END max_depth=3, max_features=0.5, min_samples_leaf=8, min_samples_split=25, n_estimators=550;, score=0.695 total time=   1.8s\n",
      "[CV 2/3; 44/50] START max_depth=3, max_features=0.5, min_samples_leaf=8, min_samples_split=25, n_estimators=550\n",
      "[CV 2/3; 44/50] END max_depth=3, max_features=0.5, min_samples_leaf=8, min_samples_split=25, n_estimators=550;, score=0.625 total time=   1.8s\n",
      "[CV 3/3; 44/50] START max_depth=3, max_features=0.5, min_samples_leaf=8, min_samples_split=25, n_estimators=550\n",
      "[CV 3/3; 44/50] END max_depth=3, max_features=0.5, min_samples_leaf=8, min_samples_split=25, n_estimators=550;, score=0.630 total time=   1.9s\n",
      "[CV 1/3; 45/50] START max_depth=16, max_features=0.5, min_samples_leaf=10, min_samples_split=21, n_estimators=775\n",
      "[CV 1/3; 45/50] END max_depth=16, max_features=0.5, min_samples_leaf=10, min_samples_split=21, n_estimators=775;, score=0.709 total time=   3.4s\n",
      "[CV 2/3; 45/50] START max_depth=16, max_features=0.5, min_samples_leaf=10, min_samples_split=21, n_estimators=775\n",
      "[CV 2/3; 45/50] END max_depth=16, max_features=0.5, min_samples_leaf=10, min_samples_split=21, n_estimators=775;, score=0.667 total time=   3.8s\n",
      "[CV 3/3; 45/50] START max_depth=16, max_features=0.5, min_samples_leaf=10, min_samples_split=21, n_estimators=775\n",
      "[CV 3/3; 45/50] END max_depth=16, max_features=0.5, min_samples_leaf=10, min_samples_split=21, n_estimators=775;, score=0.658 total time=   3.4s\n",
      "[CV 1/3; 46/50] START max_depth=24, max_features=0.75, min_samples_leaf=28, min_samples_split=3, n_estimators=700\n",
      "[CV 1/3; 46/50] END max_depth=24, max_features=0.75, min_samples_leaf=28, min_samples_split=3, n_estimators=700;, score=0.681 total time=   3.3s\n",
      "[CV 2/3; 46/50] START max_depth=24, max_features=0.75, min_samples_leaf=28, min_samples_split=3, n_estimators=700\n",
      "[CV 2/3; 46/50] END max_depth=24, max_features=0.75, min_samples_leaf=28, min_samples_split=3, n_estimators=700;, score=0.639 total time=   2.8s\n",
      "[CV 3/3; 46/50] START max_depth=24, max_features=0.75, min_samples_leaf=28, min_samples_split=3, n_estimators=700\n",
      "[CV 3/3; 46/50] END max_depth=24, max_features=0.75, min_samples_leaf=28, min_samples_split=3, n_estimators=700;, score=0.641 total time=   3.0s\n",
      "[CV 1/3; 47/50] START max_depth=21, max_features=sqrt, min_samples_leaf=8, min_samples_split=5, n_estimators=625\n",
      "[CV 1/3; 47/50] END max_depth=21, max_features=sqrt, min_samples_leaf=8, min_samples_split=5, n_estimators=625;, score=0.719 total time=   1.7s\n",
      "[CV 2/3; 47/50] START max_depth=21, max_features=sqrt, min_samples_leaf=8, min_samples_split=5, n_estimators=625\n",
      "[CV 2/3; 47/50] END max_depth=21, max_features=sqrt, min_samples_leaf=8, min_samples_split=5, n_estimators=625;, score=0.660 total time=   1.8s\n",
      "[CV 3/3; 47/50] START max_depth=21, max_features=sqrt, min_samples_leaf=8, min_samples_split=5, n_estimators=625\n",
      "[CV 3/3; 47/50] END max_depth=21, max_features=sqrt, min_samples_leaf=8, min_samples_split=5, n_estimators=625;, score=0.676 total time=   1.7s\n",
      "[CV 1/3; 48/50] START max_depth=26, max_features=0.5, min_samples_leaf=6, min_samples_split=16, n_estimators=150\n",
      "[CV 1/3; 48/50] END max_depth=26, max_features=0.5, min_samples_leaf=6, min_samples_split=16, n_estimators=150;, score=0.719 total time=   0.7s\n",
      "[CV 2/3; 48/50] START max_depth=26, max_features=0.5, min_samples_leaf=6, min_samples_split=16, n_estimators=150\n",
      "[CV 2/3; 48/50] END max_depth=26, max_features=0.5, min_samples_leaf=6, min_samples_split=16, n_estimators=150;, score=0.646 total time=   0.7s\n",
      "[CV 3/3; 48/50] START max_depth=26, max_features=0.5, min_samples_leaf=6, min_samples_split=16, n_estimators=150\n",
      "[CV 3/3; 48/50] END max_depth=26, max_features=0.5, min_samples_leaf=6, min_samples_split=16, n_estimators=150;, score=0.662 total time=   0.7s\n",
      "[CV 1/3; 49/50] START max_depth=5, max_features=0.75, min_samples_leaf=25, min_samples_split=7, n_estimators=800\n",
      "[CV 1/3; 49/50] END max_depth=5, max_features=0.75, min_samples_leaf=25, min_samples_split=7, n_estimators=800;, score=0.691 total time=   3.4s\n",
      "[CV 2/3; 49/50] START max_depth=5, max_features=0.75, min_samples_leaf=25, min_samples_split=7, n_estimators=800\n",
      "[CV 2/3; 49/50] END max_depth=5, max_features=0.75, min_samples_leaf=25, min_samples_split=7, n_estimators=800;, score=0.639 total time=   3.2s\n",
      "[CV 3/3; 49/50] START max_depth=5, max_features=0.75, min_samples_leaf=25, min_samples_split=7, n_estimators=800\n",
      "[CV 3/3; 49/50] END max_depth=5, max_features=0.75, min_samples_leaf=25, min_samples_split=7, n_estimators=800;, score=0.644 total time=   3.3s\n",
      "[CV 1/3; 50/50] START max_depth=5, max_features=log2, min_samples_leaf=22, min_samples_split=3, n_estimators=975\n",
      "[CV 1/3; 50/50] END max_depth=5, max_features=log2, min_samples_leaf=22, min_samples_split=3, n_estimators=975;, score=0.677 total time=   2.3s\n",
      "[CV 2/3; 50/50] START max_depth=5, max_features=log2, min_samples_leaf=22, min_samples_split=3, n_estimators=975\n",
      "[CV 2/3; 50/50] END max_depth=5, max_features=log2, min_samples_leaf=22, min_samples_split=3, n_estimators=975;, score=0.621 total time=   2.1s\n",
      "[CV 3/3; 50/50] START max_depth=5, max_features=log2, min_samples_leaf=22, min_samples_split=3, n_estimators=975\n",
      "[CV 3/3; 50/50] END max_depth=5, max_features=log2, min_samples_leaf=22, min_samples_split=3, n_estimators=975;, score=0.634 total time=   2.3s\n"
     ]
    },
    {
     "data": {
      "text/plain": [
       "{'n_estimators': 625,\n",
       " 'min_samples_split': 5,\n",
       " 'min_samples_leaf': 8,\n",
       " 'max_features': 'sqrt',\n",
       " 'max_depth': 21}"
      ]
     },
     "execution_count": 24,
     "metadata": {},
     "output_type": "execute_result"
    }
   ],
   "source": [
    "param_grid = {'n_estimators': list(range(100,1000,25)),\n",
    "              'max_depth': list(range(3, 30, 1)),\n",
    "              'max_features' : ['sqrt', 'log2', 0.25, 0.50, 0.75, 1],\n",
    "              'min_samples_split': list(range(2, 30, 1)),\n",
    "              'min_samples_leaf': list(range(2, 30, 1))}\n",
    "\n",
    "rfs = RandomForestClassifier()\n",
    "\n",
    "randoms = RandomizedSearchCV(rfs, param_distributions= param_grid, n_iter = 50,\n",
    "                             n_jobs = 1, cv = 3, verbose = 10, scoring = 'accuracy', random_state = 10)\n",
    "\n",
    "randoms.fit(xtrain, ytrain)\n",
    "\n",
    "randoms.best_params_"
   ]
  },
  {
   "cell_type": "markdown",
   "metadata": {
    "id": "SjhhxZmY3LSI"
   },
   "source": [
    "#### Model Building"
   ]
  },
  {
   "cell_type": "code",
   "execution_count": 28,
   "metadata": {
    "id": "9hbj-lwVenws"
   },
   "outputs": [],
   "source": [
    "rfc_best = RandomForestClassifier(n_estimators = 625, max_depth = 21, \n",
    "                                  min_samples_split = 5, min_samples_leaf = 8, \n",
    "                                  max_features = 'sqrt', random_state = 70)\n",
    "\n",
    "rfc_best.fit(xtrain, ytrain)\n",
    "\n",
    "y_predbest = rfc_best.predict(xtest)"
   ]
  },
  {
   "cell_type": "markdown",
   "metadata": {
    "id": "Uv6VIwq33VNT"
   },
   "source": [
    "#### Model Evaluation"
   ]
  },
  {
   "cell_type": "code",
   "execution_count": 29,
   "metadata": {
    "colab": {
     "base_uri": "https://localhost:8080/"
    },
    "executionInfo": {
     "elapsed": 387,
     "status": "ok",
     "timestamp": 1679180119080,
     "user": {
      "displayName": "miroalexander tiopan",
      "userId": "02347598650366603084"
     },
     "user_tz": -420
    },
    "id": "hkOUf5utLCG6",
    "outputId": "7213e928-c6fd-4ae7-d787-f233a8c2201b"
   },
   "outputs": [
    {
     "name": "stdout",
     "output_type": "stream",
     "text": [
      "  Evaluation    Result\n",
      "0   Accuracy  0.702186\n",
      "1  Precision  0.692771\n",
      "2     Recall  0.664740\n",
      "3   F1 Score  0.678466\n"
     ]
    }
   ],
   "source": [
    "accuracy = accuracy_score(ytest, y_predbest)\n",
    "precision = precision_score(ytest, y_predbest)\n",
    "recall = recall_score(ytest, y_predbest)\n",
    "f1 = f1_score(ytest, y_predbest)\n",
    "\n",
    "result = {'Evaluation': ['Accuracy', 'Precision', 'Recall', 'F1 Score'],\n",
    "'Result': [accuracy, precision, recall, f1]}\n",
    "\n",
    "result_df = pd.DataFrame(result)\n",
    "print(result_df)"
   ]
  },
  {
   "cell_type": "code",
   "execution_count": 30,
   "metadata": {
    "colab": {
     "base_uri": "https://localhost:8080/",
     "height": 404
    },
    "executionInfo": {
     "elapsed": 418,
     "status": "ok",
     "timestamp": 1679180122543,
     "user": {
      "displayName": "miroalexander tiopan",
      "userId": "02347598650366603084"
     },
     "user_tz": -420
    },
    "id": "-bivdzT1e8Jm",
    "outputId": "dbccde78-b169-4a78-ade4-dc900e54aefe"
   },
   "outputs": [
    {
     "data": {
      "image/png": "[encoded data removed]",
      "text/plain": [
       "<Figure size 800x600 with 1 Axes>"
      ]
     },
     "metadata": {},
     "output_type": "display_data"
    }
   ],
   "source": [
    "auc = roc_auc_score(ytest, y_predbest)\n",
    "\n",
    "fpr, tpr, threshold = roc_curve(ytest, y_predbest)\n",
    "\n",
    "plt.figure(figsize = (8, 6))\n",
    "plt.title(\"AUC & ROC Curve\")\n",
    "plt.plot(fpr, tpr)\n",
    "plt.fill_between(fpr, tpr, facecolor = 'yellow')\n",
    "plt.text(0.95, 0.05, 'AUC = %0.4f' %auc, ha = 'right', fontsize = 12, color = 'black')\n",
    "plt.xlabel('False Positive Rate')\n",
    "plt.ylabel('True Positive Rate')\n",
    "plt.show()"
   ]
  },
  {
   "cell_type": "markdown",
   "metadata": {},
   "source": [
    "### Conclusion"
   ]
  },
  {
   "cell_type": "markdown",
   "metadata": {},
   "source": [
    "In this project, I used TOBA stock data to predict stock price trends using the random forest algorithm. The dataset included various features such as Simple Exponential Smoothing (SES) of the adjusted closing price, Moving Average Convergence Divergence (MACD), Relative Strength Index (RSI), and others.\n",
    "\n",
    "I first built a primary random forest model with default parameters and achieved an accuracy of 65.3%. I then performed feature importance analysis and selected the most important features for a new model. Using these features, I conducted a random search for hyperparameter tuning and built a new random forest model. This model achieved an improved accuracy of 66.1%.\n",
    "\n",
    "Next, I further optimized the model using a random search with a wider range of hyperparameters. The final random forest model achieved an accuracy of 70.2%, with improved precision, recall, and F1 score compared to the previous models. The AUC of 0.7022 indicates that the model has good discriminatory ability.\n",
    "\n",
    "Overall, the random forest algorithm shows promise in predicting stock price trends using TOBA stock data. Further fine-tuning and optimization may lead to even better results."
   ]
  },
  {
   "cell_type": "code",
   "execution_count": null,
   "metadata": {},
   "outputs": [],
   "source": []
  }
 ],
 "metadata": {
  "colab": {
   "provenance": []
  },
  "kernelspec": {
   "display_name": "Python 3 (ipykernel)",
   "language": "python",
   "name": "python3"
  },
  "language_info": {
   "codemirror_mode": {
    "name": "ipython",
    "version": 3
   },
   "file_extension": ".py",
   "mimetype": "text/x-python",
   "name": "python",
   "nbconvert_exporter": "python",
   "pygments_lexer": "ipython3",
   "version": "3.11.7"
  }
 },
 "nbformat": 4,
 "nbformat_minor": 4
}
